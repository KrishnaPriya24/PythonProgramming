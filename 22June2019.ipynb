{
 "cells": [
  {
   "cell_type": "markdown",
   "metadata": {},
   "source": [
    "### DATE: 22 June 2019\n",
    "### Day Objectives\n",
    "- File Handling\n",
    "    - Basic File Data Processing\n",
    "        - Acessing and modifying the file data<br>\n",
    "       -character count<br>\n",
    "       -Line count<br>\n",
    "       -File Size<br>\n",
    "       -wordcount<br>\n",
    "       -unique word count<br>"
   ]
  },
  {
   "cell_type": "code",
   "execution_count": 4,
   "metadata": {},
   "outputs": [
    {
     "name": "stdout",
     "output_type": "stream",
     "text": [
      "<class '_io.TextIOWrapper'>\n",
      "line1\n",
      "line2\n",
      "line3\n",
      "line4\n"
     ]
    }
   ],
   "source": [
    "# Read a file -file should exist(read mode)\n",
    "# write into file -- existing (append mode)or new file(write mode)\n",
    "def readfile(filepath):\n",
    "    with open(filepath,'r') as f: # reference to file object\n",
    "        print(type(f))\n",
    "        fileData=f.read()\n",
    "    return fileData\n",
    "filepath='DataFiles/data.txt'\n",
    "print (readfile(filepath))"
   ]
  },
  {
   "cell_type": "code",
   "execution_count": 31,
   "metadata": {},
   "outputs": [
    {
     "name": "stdout",
     "output_type": "stream",
     "text": [
      "total no of characters 23\n"
     ]
    }
   ],
   "source": [
    "# function to check for character count\n",
    "def charactercount(filepath):\n",
    "    count=0\n",
    "    with open(filepath,'r') as f:\n",
    "        filepath='DataFiles/data.txt'\n",
    "        fileData=f.read()\n",
    "        for i in fileData:\n",
    "                count=count+1\n",
    "        print(\"total no of characters\",count)\n",
    "charactercount(filepath)"
   ]
  },
  {
   "cell_type": "code",
   "execution_count": 7,
   "metadata": {},
   "outputs": [
    {
     "name": "stdout",
     "output_type": "stream",
     "text": [
      "4\n"
     ]
    }
   ],
   "source": [
    "# function to check for word count\n",
    "def wordcount(filepath):\n",
    "    with open(filepath,'r')as f:\n",
    "        s=f.read().split()\n",
    "        print(len(s))\n",
    "filepath='DataFiles/data.txt'\n",
    "wordcount(filepath)"
   ]
  },
  {
   "cell_type": "code",
   "execution_count": null,
   "metadata": {},
   "outputs": [],
   "source": [
    "def wordcountfile(filepath):\n",
    "    pattern='[\\n]'\n",
    "    filedata=readfile(filepath)\n",
    "    count=len(re.split(pattern,filedata))\n",
    "    return count\n",
    "def wordsfrom file(filepath):\n",
    "    pattern='[\\n]'\n",
    "    filedata=readfile(filepath)\n",
    "    allwordslist=re.split(pattern,filedata)\n",
    "    "
   ]
  },
  {
   "cell_type": "code",
   "execution_count": 5,
   "metadata": {},
   "outputs": [
    {
     "name": "stdout",
     "output_type": "stream",
     "text": [
      "4\n"
     ]
    }
   ],
   "source": [
    "# function to check for line count \n",
    "def linecount(filepath):\n",
    "    with open(filepath,'r') as f:\n",
    "        linecount=0\n",
    "        for i in f:\n",
    "            linecount=linecount+1\n",
    "        print(linecount)\n",
    "filepath='DataFiles/data.txt'\n",
    "linecount(filepath)"
   ]
  },
  {
   "cell_type": "code",
   "execution_count": 35,
   "metadata": {},
   "outputs": [
    {
     "name": "stdout",
     "output_type": "stream",
     "text": [
      "0.023\n"
     ]
    }
   ],
   "source": [
    "# file size\n",
    "import os\n",
    "filepath='DataFiles/data.txt'\n",
    "a=os.path.getsize(filepath)\n",
    "a=a/1000\n",
    "print(a)"
   ]
  },
  {
   "cell_type": "code",
   "execution_count": 36,
   "metadata": {},
   "outputs": [
    {
     "name": "stdout",
     "output_type": "stream",
     "text": [
      "0.023 KB\n",
      "23\n"
     ]
    }
   ],
   "source": [
    "# file size \n",
    "def filesize(filepath):\n",
    "    with open(filepath,'r') as f:\n",
    "        filedata=f.read()\n",
    "        charcount=0\n",
    "        for i in filedata:\n",
    "            charcount+=1\n",
    "        a=charcount/1000\n",
    "        print(a,\"KB\")\n",
    "        return charcount\n",
    "filepath='DataFiles/data.txt'\n",
    "print(filesize(filepath))"
   ]
  },
  {
   "cell_type": "code",
   "execution_count": null,
   "metadata": {},
   "outputs": [],
   "source": [
    "# function to define unique word in list"
   ]
  },
  {
   "cell_type": "code",
   "execution_count": 3,
   "metadata": {},
   "outputs": [
    {
     "data": {
      "text/plain": [
       "[1, 2, 3]"
      ]
     },
     "execution_count": 3,
     "metadata": {},
     "output_type": "execute_result"
    }
   ],
   "source": [
    "def uniqueData(li):\n",
    "    # Create an empty unique list\n",
    "    unique = []    \n",
    "    # For every element in the main list, \n",
    "        # check if it exists in the unique list.\n",
    "        # If it does not exist, add it to unique list\n",
    "        # else if it already exists, move on to the next element in the main list   \n",
    "    for element in li:\n",
    "        if element not in unique:\n",
    "            unique.append(element)\n",
    "    return unique\n",
    "\n",
    "li = [1,2,3,3,2,1]\n",
    "\n",
    "uniqueData(li)"
   ]
  },
  {
   "cell_type": "code",
   "execution_count": 6,
   "metadata": {},
   "outputs": [],
   "source": [
    "# function to count the no of unique word in a text file\n",
    "def countuniqueword(filepath):\n",
    "    d1={\"\"}\n",
    "    \n",
    "    \n",
    "    "
   ]
  },
  {
   "cell_type": "code",
   "execution_count": 1,
   "metadata": {},
   "outputs": [],
   "source": [
    "# function for frequency disrtibution of words\n",
    "#def frequencydistributionofwords1(filepath):\n",
    "    # dictionaries to be used \n",
    "    # keys--> uniquewords\n",
    "    # values--> count of unique words \n",
    "    # Two lists\n",
    "    # All words list -\n",
    "    # unique word list -\n",
    "    # Set \n",
    "    \n",
    "    "
   ]
  },
  {
   "cell_type": "code",
   "execution_count": 9,
   "metadata": {},
   "outputs": [],
   "source": [
    "# contacts application \n",
    "# add, search,list,modify, delete contacts\n",
    "# find and replace  application \n",
    "    # count the total no of occurences of word\n",
    "    # if word existing  check for boolean function\n",
    "    # replace all occurences of word with another word \n",
    "# marks analysis application \n",
    "# generate marks  file  for n students \n",
    "  # input is marks txt file -- each line contains  marks of one student \n",
    "    # generates a report with the following  info \n",
    "    # class Average \n",
    "    # % of student passed \n",
    "    # % of students failed \n",
    "    # % of students with distinction \n",
    "    # Highest Mark frequency\n",
    "    # Lowest Mark frequency\n",
    "    \n",
    "    \n",
    "    "
   ]
  },
  {
   "cell_type": "code",
   "execution_count": 11,
   "metadata": {},
   "outputs": [],
   "source": []
  },
  {
   "cell_type": "code",
   "execution_count": null,
   "metadata": {},
   "outputs": [],
   "source": [
    "\n",
    "        \n",
    "        \n",
    "            "
   ]
  },
  {
   "cell_type": "code",
   "execution_count": null,
   "metadata": {},
   "outputs": [],
   "source": []
  },
  {
   "cell_type": "code",
   "execution_count": null,
   "metadata": {},
   "outputs": [],
   "source": []
  }
 ],
 "metadata": {
  "kernelspec": {
   "display_name": "Python 3",
   "language": "python",
   "name": "python3"
  },
  "language_info": {
   "codemirror_mode": {
    "name": "ipython",
    "version": 3
   },
   "file_extension": ".py",
   "mimetype": "text/x-python",
   "name": "python",
   "nbconvert_exporter": "python",
   "pygments_lexer": "ipython3",
   "version": "3.7.3"
  }
 },
 "nbformat": 4,
 "nbformat_minor": 2
}
