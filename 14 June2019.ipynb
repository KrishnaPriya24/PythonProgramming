{
 "cells": [
  {
   "cell_type": "code",
   "execution_count": null,
   "metadata": {},
   "outputs": [],
   "source": []
  },
  {
   "cell_type": "code",
   "execution_count": null,
   "metadata": {},
   "outputs": [],
   "source": []
  },
  {
   "cell_type": "markdown",
   "metadata": {},
   "source": [
    "# PYTHON DATA STRUCTURES\n",
    " - LISTS\n",
    " "
   ]
  },
  {
   "cell_type": "code",
   "execution_count": 47,
   "metadata": {},
   "outputs": [
    {
     "name": "stdout",
     "output_type": "stream",
     "text": [
      "-1\n"
     ]
    }
   ],
   "source": [
    "a=[234,567, 456]\n",
    "\n",
    "a #acessing the entire list \n",
    "a[1] #acessing the element with index in list \n",
    "\n",
    "a[1:] # acessing all elemnts from  second element to last element \n",
    "\n",
    "a= a[:: -1]  # rversing the list elements and reassign the elemnents\n",
    "\n",
    "a\n",
    "\n",
    "a=a[::-1]\n",
    "a\n",
    "\n",
    "\n",
    "a[::2]#acessing the even index elements \n",
    "a[1::2]# acessing the odd index elements \n",
    "\n",
    "# Lists can be manipulated in two different ways\n",
    "    # Direct referencing    there is a chance of damaging the data is disadvantage  []  is direct referencing \n",
    "    #Indirect referencing    through functions  we can change manipulate the data \n",
    "# Adding an element to end of list \n",
    "a.append(587)\n",
    "a\n",
    "# adding an element at a particular index \n",
    "a.insert(1,345)\n",
    "a\n",
    "\n",
    "a.sort()# sort the elements in ascending order \n",
    "a\n",
    "\n",
    "# remove the last element in a list \n",
    "a.pop()\n",
    "a\n",
    "\n",
    "\n",
    "# remove an element at particular index \n",
    "\n",
    "a.pop(1)\n",
    "a\n",
    "b=[345,678,897]\n",
    "#merge list2 into list1 \n",
    "a.extend(b)\n",
    "a\n",
    "\n",
    "\n",
    "\n",
    "# functions in list\n",
    "sum(a) # sum of all elements in list\n",
    "max(a)  # maximum number of elements in list \n",
    "len(a)  # length of elements in list\n",
    "\n",
    "# average of list elements \n",
    "sum(a)/len(a)\n",
    "\n",
    "\n",
    "# avg of all alternate elements at even positions \n",
    "sum(a[::2])/len(a[::2])\n",
    "\n",
    "# avg of all index postions \n",
    "sum(a[1::2])/len(a[1::2])\n",
    "\n",
    "max(a)-1\n",
    "try:\n",
    "    a.counter(10000)\n",
    "except:\n",
    "    print(-1)\n",
    "\n",
    "\n"
   ]
  },
  {
   "cell_type": "code",
   "execution_count": 31,
   "metadata": {},
   "outputs": [
    {
     "data": {
      "text/plain": [
       "[234, 345, 456, 567, 678, 897]"
      ]
     },
     "execution_count": 31,
     "metadata": {},
     "output_type": "execute_result"
    }
   ],
   "source": [
    "# function to identify the second largest element in a  unique list\n",
    "    # sort the data and select the second last element \n",
    "    #sort the data in reverse order, and select the second element \n",
    "    # remove the max element and then get the max of new list \n",
    "    #\n",
    "def secondlargest(a):\n",
    "    a.sort()\n",
    "    return a[-2]\n",
    "    \n",
    "\n",
    "def genericlargest(a,n):\n",
    "    a.sort()\n",
    "    return a[-n]\n",
    "\n",
    "secondlargest(a)\n",
    "genericlargest(a,5)\n",
    "a\n"
   ]
  },
  {
   "cell_type": "code",
   "execution_count": 36,
   "metadata": {},
   "outputs": [
    {
     "data": {
      "text/plain": [
       "2"
      ]
     },
     "execution_count": 36,
     "metadata": {},
     "output_type": "execute_result"
    }
   ],
   "source": [
    "# function to search for data in a list \n",
    "# search for the key in the list and return the index element return -1 if key not found\n",
    "def linearsearch(a,key):\n",
    "    for counter in  range (0, len(a)):\n",
    "        if a[counter]==key:\n",
    "            return counter\n",
    "    return -1\n",
    "a=[234, 345, 456, 567, 678, 897]\n",
    "linearsearch(a,456)"
   ]
  },
  {
   "cell_type": "code",
   "execution_count": 37,
   "metadata": {},
   "outputs": [
    {
     "data": {
      "text/plain": [
       "3"
      ]
     },
     "execution_count": 37,
     "metadata": {},
     "output_type": "execute_result"
    }
   ],
   "source": [
    "# second procedure \n",
    "def linearsearch2(a,key):\n",
    "    for counter in a:\n",
    "        if counter==key:\n",
    "            return a.index(counter)\n",
    "    return -1\n",
    "linearsearch2(a,567)"
   ]
  },
  {
   "cell_type": "code",
   "execution_count": 38,
   "metadata": {},
   "outputs": [
    {
     "data": {
      "text/plain": [
       "2"
      ]
     },
     "execution_count": 38,
     "metadata": {},
     "output_type": "execute_result"
    }
   ],
   "source": [
    "# third procedure\n",
    "def linearsearch3(a,key):\n",
    "    if key in a:\n",
    "        return a.index(key)\n",
    "    return -1\n",
    "linearsearch3(a,456)"
   ]
  },
  {
   "cell_type": "code",
   "execution_count": 65,
   "metadata": {},
   "outputs": [
    {
     "data": {
      "text/plain": [
       "1"
      ]
     },
     "execution_count": 65,
     "metadata": {},
     "output_type": "execute_result"
    }
   ],
   "source": [
    "#function to count the occurences of a character in the given string  \n",
    "#\"pythonprogramming\" ,m-->2\n",
    "def countcharoccurances(s,c):\n",
    "    count=0\n",
    "    for ch in s:\n",
    "        if ch==c:\n",
    "            count +=1\n",
    "            return count\n",
    "def countcharoccurances2(s,c):\n",
    "    return s.count(c)\n",
    "countcharoccurances2(\"pythonprogramming\",'py')"
   ]
  },
  {
   "cell_type": "code",
   "execution_count": 34,
   "metadata": {},
   "outputs": [],
   "source": [
    "#function to find the number of occurances of substring \n",
    "#\"abcabcddcba\",\"ab\"-->2\n"
   ]
  },
  {
   "cell_type": "code",
   "execution_count": 35,
   "metadata": {},
   "outputs": [
    {
     "data": {
      "text/plain": [
       "[1, 2, 3, 4, 5, 6]"
      ]
     },
     "execution_count": 35,
     "metadata": {},
     "output_type": "execute_result"
    }
   ],
   "source": [
    "s=\"1 2 3 4 5 6\"\n",
    "li=s.split()\n",
    "numberlist=[]\n",
    "for i in li:\n",
    "    numberlist.append(int(i))\n",
    "numberlist"
   ]
  },
  {
   "cell_type": "code",
   "execution_count": 5,
   "metadata": {},
   "outputs": [
    {
     "name": "stdout",
     "output_type": "stream",
     "text": [
      "3\n"
     ]
    },
    {
     "data": {
      "text/plain": [
       "14"
      ]
     },
     "execution_count": 5,
     "metadata": {},
     "output_type": "execute_result"
    }
   ],
   "source": [
    "n=int(input())\n",
    "def square(n):\n",
    "    sum=0\n",
    "    for i in range(1,n+1):\n",
    "        sum= sum+i**2\n",
    "    return sum\n",
    "square(n)\n",
    "        \n",
    "    "
   ]
  },
  {
   "cell_type": "code",
   "execution_count": null,
   "metadata": {},
   "outputs": [],
   "source": [
    "** explanation** \n",
    "-li=[3,2,-1,-2,-3] original list ...> -1\n"
   ]
  },
  {
   "cell_type": "code",
   "execution_count": 10,
   "metadata": {},
   "outputs": [
    {
     "name": "stdout",
     "output_type": "stream",
     "text": [
      "-1\n"
     ]
    }
   ],
   "source": [
    "li=[-1, -2, 2, 3,1]\n",
    "li.sort()\n",
    "li\n",
    "pl=[]\n",
    "for i in li:\n",
    "    pl.append(abs(i))\n",
    "pl.sort()\n",
    "pl\n",
    "if -pl[0] in li:  # lesser value   # greater value pl[0]\n",
    "    print(-pl[0])\n",
    "else:\n",
    "    print(pl[0])\n"
   ]
  },
  {
   "cell_type": "code",
   "execution_count": 13,
   "metadata": {},
   "outputs": [
    {
     "name": "stdout",
     "output_type": "stream",
     "text": [
      "-10\n"
     ]
    }
   ],
   "source": [
    "#Farthest From Zero \n",
    "li=[-1,-2, -10,9]\n",
    "li.sort()\n",
    "# result should be -10 \n",
    "li\n",
    "pl=[]\n",
    "for i in li:\n",
    "    pl.append(abs(i))\n",
    "pl.sort()\n",
    "pl\n",
    "if pl[-1] in li:\n",
    "    print(pl[-1])\n",
    "else:\n",
    "    print(-pl[-1])\n",
    "\n",
    "\n"
   ]
  },
  {
   "cell_type": "code",
   "execution_count": 14,
   "metadata": {},
   "outputs": [
    {
     "data": {
      "text/plain": [
       "True"
      ]
     },
     "execution_count": 14,
     "metadata": {},
     "output_type": "execute_result"
    }
   ],
   "source": [
    "# you have given three numbers a,b,c\n",
    "#write a program to find the largest number which is less than or equal to c and leaves remainder b when divided by a \n",
    "\n",
    "# 3 2 9 \n",
    "9%3==0\n",
    "8%3==2\n",
    "\n",
    "\n",
    "#eg2: 1 2 4 \n",
    "4%1==0\n",
    "3%1==0\n",
    "2%1==0\n",
    "1%1==0\n",
    "0%1==0\n",
    "-1%1==0\n",
    "\n",
    "\n",
    "\n",
    "\n",
    "\n",
    "\n"
   ]
  },
  {
   "cell_type": "code",
   "execution_count": 22,
   "metadata": {},
   "outputs": [
    {
     "data": {
      "text/plain": [
       "98"
      ]
     },
     "execution_count": 22,
     "metadata": {},
     "output_type": "execute_result"
    }
   ],
   "source": [
    "def cal(a,b,c):\n",
    "    for i in range(c,a-1,-1):# c,c-1,.... a check for all the values from c to a \n",
    "        if i%a==b:\n",
    "            return i\n",
    "    return -1\n",
    "cal (3,2,100)\n",
    "        "
   ]
  },
  {
   "cell_type": "code",
   "execution_count": null,
   "metadata": {},
   "outputs": [],
   "source": []
  }
 ],
 "metadata": {
  "kernelspec": {
   "display_name": "Python 3",
   "language": "python",
   "name": "python3"
  },
  "language_info": {
   "codemirror_mode": {
    "name": "ipython",
    "version": 3
   },
   "file_extension": ".py",
   "mimetype": "text/x-python",
   "name": "python",
   "nbconvert_exporter": "python",
   "pygments_lexer": "ipython3",
   "version": "3.7.3"
  }
 },
 "nbformat": 4,
 "nbformat_minor": 2
}
