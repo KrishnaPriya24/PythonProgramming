{
 "cells": [
  {
   "cell_type": "markdown",
   "metadata": {},
   "source": [
    "## MARKDOWN BASICS\n",
    "* **Bold**\n",
    "* *Italic*\n",
    "* ***BI***\n",
    "*  NormalText\n",
    "    * sublist1\n",
    "    * sublist2\n",
    "    \n",
    "    \n",
    "1. Ordered list element 1\n",
    "2. Ordered list element 2\n",
    "\n",
    "[logo](logo.png)\n",
    "\n",
    "\n",
    "<img src =\"logo.png\" style=\"float:left\">\n",
    "I get 10 times more traffic from [Google] [1] than from   ordered linking\n",
    "[Yahoo] [2] or [MSN] [3].\n",
    "\n",
    "  [1]: http://google.com/        \"Google\"\n",
    "  [2]: http://search.yahoo.com/  \"Yahoo Search\"\n",
    "  [3]: http://search.msn.com/    \"MSN Search\"\n",
    "  \n",
    "  \n",
    "  <https:www.google.com>\n",
    "  markdown@google.com\n",
    " \n",
    "  \n",
    "  \n",
    "  \n",
    "  \n",
    "  printf(\"welcome\")\n",
    "\n",
    "\n"
   ]
  },
  {
   "cell_type": "markdown",
   "metadata": {},
   "source": [
    "# PYTHON BASICS \n",
    "\n",
    "python version 3.7 \n",
    "- scripting\n",
    "- objectoriented\n",
    "- functional\n"
   ]
  },
  {
   "cell_type": "code",
   "execution_count": 8,
   "metadata": {},
   "outputs": [
    {
     "name": "stdout",
     "output_type": "stream",
     "text": [
      "good afternoon ! ||Hello python\n"
     ]
    }
   ],
   "source": [
    "#python comments \n",
    "\n",
    "print(\"good afternoon\", \"!\",end=\" ||\")\n",
    "print(\"Hello python\")\n"
   ]
  },
  {
   "cell_type": "code",
   "execution_count": null,
   "metadata": {},
   "outputs": [],
   "source": []
  },
  {
   "cell_type": "markdown",
   "metadata": {},
   "source": [
    "### Assignment"
   ]
  },
  {
   "cell_type": "code",
   "execution_count": 21,
   "metadata": {},
   "outputs": [
    {
     "name": "stdout",
     "output_type": "stream",
     "text": [
      "123 345 567\n"
     ]
    }
   ],
   "source": [
    "n1=123456 #single variable assigenement\n",
    "\n",
    "n2= n3= n4= n1          #Multivariable Assigenement\n",
    "\n",
    "a,b,c= 123,345, 567 #Multi Variable Assignement with different values \n",
    "\n",
    "print(a,b,c)\n",
    "\n",
    "\n",
    "\n"
   ]
  },
  {
   "cell_type": "markdown",
   "metadata": {},
   "source": [
    "# DATATYPES AND CONVERSIONS:\n",
    "- int\n",
    "- float\n",
    "- string \n"
   ]
  },
  {
   "cell_type": "code",
   "execution_count": 54,
   "metadata": {},
   "outputs": [
    {
     "data": {
      "text/plain": [
       "12345.0"
      ]
     },
     "execution_count": 54,
     "metadata": {},
     "output_type": "execute_result"
    }
   ],
   "source": [
    "s1=\"welcome\"\n",
    "type(s1)\n",
    "f1=12345.678\n",
    "type(f1)\n",
    "float(str(int(f1)))"
   ]
  },
  {
   "cell_type": "code",
   "execution_count": null,
   "metadata": {},
   "outputs": [],
   "source": []
  },
  {
   "cell_type": "code",
   "execution_count": null,
   "metadata": {},
   "outputs": [],
   "source": []
  },
  {
   "cell_type": "code",
   "execution_count": null,
   "metadata": {},
   "outputs": [],
   "source": []
  },
  {
   "cell_type": "markdown",
   "metadata": {},
   "source": [
    "### Airthmetic Operations \n",
    "- +\n",
    "- -\n",
    "- *\n",
    "- /\n",
    "- %\n",
    "- **\n"
   ]
  },
  {
   "cell_type": "code",
   "execution_count": 47,
   "metadata": {},
   "outputs": [
    {
     "data": {
      "text/plain": [
       "str"
      ]
     },
     "execution_count": 47,
     "metadata": {},
     "output_type": "execute_result"
    }
   ],
   "source": [
    "n1 %11\n",
    "n3= n2 **12\n",
    "type(n3)\n",
    "len(str(n3))\n",
    "atoms=10**82\n",
    "len(str(atoms))\n",
    "type(str(atoms))"
   ]
  },
  {
   "cell_type": "code",
   "execution_count": null,
   "metadata": {},
   "outputs": [],
   "source": [
    "\n"
   ]
  },
  {
   "cell_type": "markdown",
   "metadata": {},
   "source": [
    "### Conditionals\n",
    "\n",
    "\n",
    "\n"
   ]
  },
  {
   "cell_type": "code",
   "execution_count": 58,
   "metadata": {},
   "outputs": [
    {
     "name": "stdout",
     "output_type": "stream",
     "text": [
      "false\n"
     ]
    }
   ],
   "source": [
    "if atoms < 10 ** 9:\n",
    "    print(\"TRUE\")\n",
    "else:\n",
    "    print(\"false\")"
   ]
  },
  {
   "cell_type": "code",
   "execution_count": 59,
   "metadata": {},
   "outputs": [],
   "source": []
  },
  {
   "cell_type": "code",
   "execution_count": 60,
   "metadata": {},
   "outputs": [
    {
     "name": "stdout",
     "output_type": "stream",
     "text": [
      "odd\n"
     ]
    }
   ],
   "source": [
    "#check if a number is even \n",
    "n=123\n",
    "if(n%2==0):\n",
    "    print(\"even\")\n",
    "else:\n",
    "    print(\"odd\")"
   ]
  },
  {
   "cell_type": "code",
   "execution_count": 1,
   "metadata": {},
   "outputs": [
    {
     "name": "stdout",
     "output_type": "stream",
     "text": [
      "enter the first number6\n",
      "enter the second number9\n",
      "enter the third number1\n",
      "9 is the greatest\n"
     ]
    }
   ],
   "source": [
    "# find the greatest of three numbers \n",
    "n1=int(input(\"enter the first number\"))\n",
    "n2=int(input(\"enter the second number\"))\n",
    "n3=int(input(\"enter the third number\"))\n",
    "\n",
    "if(n1>n2 and n1>n3):\n",
    "    print(n1,\"is the greatest\")\n",
    "elif(n2>n3):\n",
    "    print(n2 ,\"is the greatest\")\n",
    "else:\n",
    "    print(n3,\"is the greatest\")"
   ]
  },
  {
   "cell_type": "code",
   "execution_count": null,
   "metadata": {},
   "outputs": [],
   "source": [
    "#checking if the year is leap or not \n",
    "year=1234\n",
    "if(year%400==0 or year%100!=0 and year %400==0):\n",
    "    print(\"it is leap year \")\n",
    "else\n",
    "    print(\"it is not leap year\")\n",
    "\n"
   ]
  },
  {
   "cell_type": "code",
   "execution_count": 10,
   "metadata": {},
   "outputs": [
    {
     "name": "stdout",
     "output_type": "stream",
     "text": [
      "number is in range\n"
     ]
    }
   ],
   "source": [
    "# check if a number exists in a given range\n",
    "n1=345\n",
    "ub=456\n",
    "lb=34\n",
    "if (n1<=ub and n1>=lb):\n",
    "    print(\"number is in range\")\n",
    "else:\n",
    "    print(\"number is not in range\")\n",
    "\n"
   ]
  },
  {
   "cell_type": "code",
   "execution_count": 6,
   "metadata": {},
   "outputs": [
    {
     "name": "stdout",
     "output_type": "stream",
     "text": [
      "123 is not  a multiple of 10 \n"
     ]
    }
   ],
   "source": [
    " #check if a number is multiple of 10 \n",
    "n1=123\n",
    "if(n1%10==0):\n",
    "    print(n1,\"is a multiple of 10\")\n",
    "else:\n",
    "    print(n1,\"is not  a multiple of 10 \")"
   ]
  },
  {
   "cell_type": "code",
   "execution_count": 7,
   "metadata": {},
   "outputs": [
    {
     "name": "stdout",
     "output_type": "stream",
     "text": [
      "123 is not a factor of 10\n"
     ]
    }
   ],
   "source": [
    "#check if a number is a factor of 1000\n",
    "if(1000%n1==0):\n",
    "    print(n1,\"is a factor  of 10\")\n",
    "else:\n",
    "    print(n1,\"is not a factor of 10\")"
   ]
  },
  {
   "cell_type": "code",
   "execution_count": 11,
   "metadata": {},
   "outputs": [
    {
     "name": "stdout",
     "output_type": "stream",
     "text": [
      "Not Equal\n"
     ]
    }
   ],
   "source": [
    "#check if given string is eqal to number \n",
    "s1=\"python\"\n",
    "n1=123\n",
    "if str(n1) == s1:\n",
    "    print(\"Equal\")\n",
    "else:\n",
    "    print(\"Not Equal\")"
   ]
  },
  {
   "cell_type": "code",
   "execution_count": 3,
   "metadata": {},
   "outputs": [
    {
     "name": "stdout",
     "output_type": "stream",
     "text": [
      "8\n"
     ]
    }
   ],
   "source": [
    "# count the no of digits in a number\n",
    "n1=12345678\n",
    "print(len(str(n1)))"
   ]
  },
  {
   "cell_type": "code",
   "execution_count": 3,
   "metadata": {},
   "outputs": [
    {
     "data": {
      "text/plain": [
       "10.0"
      ]
     },
     "execution_count": 3,
     "metadata": {},
     "output_type": "execute_result"
    }
   ],
   "source": [
    "#calculate the square root of a number \n",
    "n1=100\n",
    "n1**0.5\n"
   ]
  },
  {
   "cell_type": "code",
   "execution_count": 7,
   "metadata": {},
   "outputs": [
    {
     "name": "stdout",
     "output_type": "stream",
     "text": [
      "31536000000000000\n"
     ]
    }
   ],
   "source": [
    "#calaculate the number of nano seconds in a \n",
    "#given year (considering leap year logic)\n",
    "year=2018\n",
    "if (year%400==0 or(year%100!=0 and year%4==0)):\n",
    "    print(366*24*60*60*(10**9))\n",
    "else:\n",
    "    print(365*24*60*60*(10**9))\n"
   ]
  },
  {
   "cell_type": "code",
   "execution_count": null,
   "metadata": {},
   "outputs": [],
   "source": []
  }
 ],
 "metadata": {
  "kernelspec": {
   "display_name": "Python 3",
   "language": "python",
   "name": "python3"
  },
  "language_info": {
   "codemirror_mode": {
    "name": "ipython",
    "version": 3
   },
   "file_extension": ".py",
   "mimetype": "text/x-python",
   "name": "python",
   "nbconvert_exporter": "python",
   "pygments_lexer": "ipython3",
   "version": "3.7.3"
  }
 },
 "nbformat": 4,
 "nbformat_minor": 2
}
