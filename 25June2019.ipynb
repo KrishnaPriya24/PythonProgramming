{
 "cells": [
  {
   "cell_type": "code",
   "execution_count": null,
   "metadata": {},
   "outputs": [],
   "source": [
    "Given a string s, consist of alphabet and digits find the frequecy of the given string \n"
   ]
  },
  {
   "cell_type": "code",
   "execution_count": null,
   "metadata": {},
   "outputs": [],
   "source": [
    "#s=123abc456def  o/p  0 1 1 1 1 1 1 0 0 0\n",
    "# s=a11472o5t6\n",
    "0/p:0 2 1 0 1 1 1 1 0 0 \n",
    "    # s =c \n",
    "    0/p:  0 0 0 0 0 0 0 0 0\n",
    "# s= 1 2 3 4 5 6 7 8 9 \n",
    "1  1 1 1 1 1 1 1 1 \n",
    "# s= 2 1 3 abc456def111\n",
    "\n",
    "    "
   ]
  },
  {
   "cell_type": "code",
   "execution_count": 48,
   "metadata": {},
   "outputs": [
    {
     "ename": "NameError",
     "evalue": "name 's' is not defined",
     "output_type": "error",
     "traceback": [
      "\u001b[1;31m---------------------------------------------------------------------------\u001b[0m",
      "\u001b[1;31mNameError\u001b[0m                                 Traceback (most recent call last)",
      "\u001b[1;32m<ipython-input-48-f8510c766be6>\u001b[0m in \u001b[0;36m<module>\u001b[1;34m\u001b[0m\n\u001b[0;32m     18\u001b[0m                 \u001b[0mcount\u001b[0m\u001b[1;33m=\u001b[0m\u001b[0mallnumbers\u001b[0m\u001b[1;33m.\u001b[0m\u001b[0mcount\u001b[0m\u001b[1;33m(\u001b[0m\u001b[0mstr\u001b[0m\u001b[1;33m(\u001b[0m\u001b[0mi\u001b[0m\u001b[1;33m)\u001b[0m\u001b[1;33m)\u001b[0m\u001b[1;33m\u001b[0m\u001b[1;33m\u001b[0m\u001b[0m\n\u001b[0;32m     19\u001b[0m                 \u001b[0mprint\u001b[0m\u001b[1;33m(\u001b[0m\u001b[0mcount\u001b[0m\u001b[1;33m,\u001b[0m\u001b[0mend\u001b[0m\u001b[1;33m=\u001b[0m\u001b[1;34m''\u001b[0m\u001b[1;33m)\u001b[0m\u001b[1;33m\u001b[0m\u001b[1;33m\u001b[0m\u001b[0m\n\u001b[1;32m---> 20\u001b[1;33m \u001b[0mdigitfrequency1\u001b[0m\u001b[1;33m(\u001b[0m\u001b[0ms\u001b[0m\u001b[1;33m)\u001b[0m\u001b[1;33m\u001b[0m\u001b[1;33m\u001b[0m\u001b[0m\n\u001b[0m",
      "\u001b[1;31mNameError\u001b[0m: name 's' is not defined"
     ]
    }
   ],
   "source": [
    "def uniquedata(allnumbers):\n",
    "    unique=[]\n",
    "    for n in allnumbers:\n",
    "        if n not in unique:\n",
    "            unique.append(n)\n",
    "        return unique\n",
    "\n",
    "def digitfrequency1(s):\n",
    "    allnumbers=[]\n",
    "    for i in s:\n",
    "        if i.isdigit():\n",
    "            allnumbers.append(i)\n",
    "        unique= uniquedata(allnumbers)\n",
    "        for i in range(0,10):\n",
    "            if str(i) not in unique:\n",
    "                print(0,end='')\n",
    "            else:\n",
    "                count=allnumbers.count(str(i))\n",
    "                print(count,end='')\n",
    "digitfrequency1(s)"
   ]
  },
  {
   "cell_type": "code",
   "execution_count": 50,
   "metadata": {},
   "outputs": [
    {
     "ename": "NameError",
     "evalue": "name 's' is not defined",
     "output_type": "error",
     "traceback": [
      "\u001b[1;31m---------------------------------------------------------------------------\u001b[0m",
      "\u001b[1;31mNameError\u001b[0m                                 Traceback (most recent call last)",
      "\u001b[1;32m<ipython-input-50-0f7adcda2b4c>\u001b[0m in \u001b[0;36m<module>\u001b[1;34m\u001b[0m\n\u001b[0;32m      4\u001b[0m         \u001b[0mcount\u001b[0m\u001b[1;33m=\u001b[0m\u001b[0mcount\u001b[0m\u001b[1;33m+\u001b[0m\u001b[1;36m1\u001b[0m\u001b[1;33m\u001b[0m\u001b[1;33m\u001b[0m\u001b[0m\n\u001b[0;32m      5\u001b[0m     \u001b[0mprint\u001b[0m\u001b[1;33m(\u001b[0m\u001b[0mcount\u001b[0m\u001b[1;33m)\u001b[0m\u001b[1;33m\u001b[0m\u001b[1;33m\u001b[0m\u001b[0m\n\u001b[1;32m----> 6\u001b[1;33m \u001b[0mdigitfrequency2\u001b[0m\u001b[1;33m(\u001b[0m\u001b[0ms\u001b[0m\u001b[1;33m)\u001b[0m\u001b[1;33m\u001b[0m\u001b[1;33m\u001b[0m\u001b[0m\n\u001b[0m\u001b[0;32m      7\u001b[0m \u001b[1;33m\u001b[0m\u001b[0m\n",
      "\u001b[1;31mNameError\u001b[0m: name 's' is not defined"
     ]
    }
   ],
   "source": [
    "def digitfrequency2(s):\n",
    "    for i in range(0,10):\n",
    "        count=s.count(str(i))\n",
    "        count=count+1\n",
    "    print(count)\n",
    "digitfrequency2(s)\n",
    "        "
   ]
  },
  {
   "cell_type": "code",
   "execution_count": 24,
   "metadata": {},
   "outputs": [],
   "source": [
    "from random import randint \n",
    "def generatemarks(n, lb,ub):\n",
    "    with open ('DataFiles/ marks.txt','w') as f:\n",
    "        for i in range(0,n):\n",
    "            r=randint(lb,ub)\n",
    "            f.write(str(r)+'\\n')\n",
    "        return\n",
    "generatemarks(10000,0,100)"
   ]
  },
  {
   "cell_type": "code",
   "execution_count": 25,
   "metadata": {},
   "outputs": [
    {
     "data": {
      "text/plain": [
       "50.298"
      ]
     },
     "execution_count": 25,
     "metadata": {},
     "output_type": "execute_result"
    }
   ],
   "source": [
    "def classavg(n):\n",
    "    with open('DataFiles/ marks.txt') as f:\n",
    "        fh=f.read()\n",
    "        sum=0\n",
    "        for i in fh.split():\n",
    "            sum=sum +int(i)\n",
    "        return sum/n\n",
    "classavg(10000)\n",
    "        \n",
    "        "
   ]
  },
  {
   "cell_type": "code",
   "execution_count": 29,
   "metadata": {},
   "outputs": [
    {
     "name": "stdout",
     "output_type": "stream",
     "text": [
      "students passed with percentage  61.11\n"
     ]
    }
   ],
   "source": [
    "def passpercent():\n",
    "    with open ('DataFiles/ marks.txt')as f:\n",
    "        fh=f.read()\n",
    "        c=0\n",
    "        count=0\n",
    "        n=10000\n",
    "        for i in fh.split():\n",
    "            if int(i)>=40:\n",
    "                c=c+1\n",
    "        print(\"students passed with percentage \",(c/n)*100)\n",
    "    return\n",
    "passpercent()\n",
    "        \n",
    "            \n",
    "            \n",
    "        \n",
    "        "
   ]
  },
  {
   "cell_type": "code",
   "execution_count": 31,
   "metadata": {},
   "outputs": [
    {
     "name": "stdout",
     "output_type": "stream",
     "text": [
      "students failed with percentage  39.95\n"
     ]
    }
   ],
   "source": [
    "def failpercent():\n",
    "    with open ('DataFiles/ marks.txt')as f:\n",
    "        fh=f.read()\n",
    "        c=0\n",
    "        n = 10000\n",
    "        count=0\n",
    "        for i in fh.split():\n",
    "            if(int(i)<=40):\n",
    "                c=c+1\n",
    "        print(\"students failed with percentage \",(c/n)*100)\n",
    "    return\n",
    "failpercent()\n",
    "        \n",
    "            "
   ]
  },
  {
   "cell_type": "code",
   "execution_count": 34,
   "metadata": {},
   "outputs": [
    {
     "name": "stdout",
     "output_type": "stream",
     "text": [
      "students passed with percentage  26.16\n"
     ]
    }
   ],
   "source": [
    "def passpercentdistinction():\n",
    "    with open ('DataFiles/ marks.txt')as f:\n",
    "        fh=f.read()\n",
    "        c=0\n",
    "        count=0\n",
    "        n = 10000\n",
    "        for i in fh.split():\n",
    "            if(int(i)>=75):\n",
    "                c=c+1\n",
    "        print(\"students passed with percentage \",(c/n)*100)\n",
    "    return\n",
    "passpercentdistinction()\n",
    "        \n",
    "            "
   ]
  },
  {
   "cell_type": "code",
   "execution_count": 47,
   "metadata": {},
   "outputs": [
    {
     "name": "stdout",
     "output_type": "stream",
     "text": [
      "max highest 1\n"
     ]
    }
   ],
   "source": [
    "def highest():\n",
    "    with open ('DataFiles/ marks.txt')as f:\n",
    "        fh=f.read()\n",
    "        for i in fh.split():\n",
    "            highest=max(i)\n",
    "        print(\"max highest\",highest)\n",
    "    return\n",
    "highest()\n",
    "        \n",
    "            "
   ]
  },
  {
   "cell_type": "code",
   "execution_count": 46,
   "metadata": {},
   "outputs": [
    {
     "name": "stdout",
     "output_type": "stream",
     "text": [
      " lowest 0\n"
     ]
    }
   ],
   "source": [
    "def lowest():\n",
    "    with open ('DataFiles/ marks.txt')as f:\n",
    "        fh=f.read()\n",
    "        for i in fh.split():\n",
    "            lowest=min(i)\n",
    "        print(\" lowest\",lowest)\n",
    "    return\n",
    "lowest()\n",
    "        "
   ]
  },
  {
   "cell_type": "code",
   "execution_count": 1,
   "metadata": {},
   "outputs": [
    {
     "name": "stdout",
     "output_type": "stream",
     "text": [
      "1 10\n",
      "5\n"
     ]
    }
   ],
   "source": [
    "# function to define average of numbers \n",
    "def avg(n):\n",
    "    sum=0\n",
    "    count=0\n",
    "    for i in range(lb,ub+1):\n",
    "        sum=sum+i\n",
    "        count=count+1\n",
    "        avg=sum//count\n",
    "    print(avg)\n",
    "n=input()\n",
    "n = n.split()\n",
    "lb = int(n[0])\n",
    "ub = int(n[1])\n",
    "avg(n)"
   ]
  },
  {
   "cell_type": "code",
   "execution_count": 11,
   "metadata": {},
   "outputs": [
    {
     "data": {
      "text/plain": [
       "0"
      ]
     },
     "execution_count": 11,
     "metadata": {},
     "output_type": "execute_result"
    }
   ],
   "source": [
    "# function to check two strings are annagrams \n",
    "# abc cba ---> True\n",
    "# dict order {a:1,b:1,c:1} {c:1,a:1,b:1}\n",
    "# abc abc ---> sort \n",
    "# aabbcc ccbbaaa--> False\n",
    "# dict order :{a:2,b:2,c:2},{a:3,b:2,c:2}\n",
    "#aabbcc aaabbcc:  \n",
    "\n",
    "# abcccddd\n",
    "# aabccceee\n",
    "\n",
    "\n",
    "def checkAnagrams (s1,s2):\n",
    "    if len(s1)!=len(s2):\n",
    "        return False\n",
    "    if sorted(s1)==sorted(s2):\n",
    "        return True \n",
    "    return False # though len is same and for different characters we can check \n",
    "checkAnagrams('abc','bcc')\n",
    "\n",
    "\n",
    "def chardeletionsAnagrams(s1,s2):\n",
    "    uncommon=[]\n",
    "    for i in s1:\n",
    "        if i not in s2:\n",
    "            uncommon.append(i)\n",
    "    for i in s2:\n",
    "        if i not in s1:\n",
    "            uncommon.append(i)\n",
    "        count=len(uncommon)\n",
    "        # freqs1---> frequency of common characters in s1 \n",
    "        freqs1={}\n",
    "        freqs2={}\n",
    "        # uniqs1 represents unique characters in s1 and s2 \n",
    "        uniqs1=[]\n",
    "        uniqs2=[]\n",
    "        # freq of unique characters in s1\n",
    "    for i in s1:\n",
    "        if i not in uncommon and i not in uniqs1:  # buliding a frequenccy dictionary it exist in both strings and unique character\n",
    "            freqs1[i]=s1.count(i)\n",
    "            uniqs1.append(i)\n",
    "    for i in s2:\n",
    "        if i not in uncommon and i not in uniqs2:\n",
    "            freqs2[i]=s2.count(i)\n",
    "            uniqs2.append(i)\n",
    "    for key in freqs1.keys():\n",
    "        count += abs((freqs1[key])-freqs2[key])\n",
    "    return count\n",
    "#chardeletionsAnagrams('cde','abc')           \n",
    "#chardeletionsAnagrams('a','b')\n",
    "chardeletionsAnagrams('abc','abc')\n",
    "\n",
    "    \n",
    "    \n",
    "    \n",
    "    \n",
    "    \n",
    "    "
   ]
  },
  {
   "cell_type": "code",
   "execution_count": null,
   "metadata": {},
   "outputs": [],
   "source": [
    "# abccc --> {a:1,b:1,c:3}   # common characters which are having  in both dictionarcies by acessing the keys we get valueas\n",
    "#aabcb----> {a:2,b:2,c:1}"
   ]
  },
  {
   "cell_type": "code",
   "execution_count": 12,
   "metadata": {},
   "outputs": [],
   "source": [
    "# {a:4, g:9,i:6,p:213,c:6}\n",
    "#[4,6,6,9,213]\n",
    "#[a,c,g,i,p]\n",
    "# k=3\n",
    "#[213,9,6,6,4]\n",
    "#li=[]\n",
    "# for item in d.items():\n",
    "# if item[1]==6: # extract key from value\n",
    "# li.append(item[0])\n",
    "# li=[i,c]\n",
    "\n",
    "\n",
    "\n"
   ]
  },
  {
   "cell_type": "code",
   "execution_count": null,
   "metadata": {},
   "outputs": [],
   "source": [
    "def klargestFrequency(s,k):\n",
    "    # construct the frequency dictionary for all unique characters\n",
    "    unique=[] # for bigger inputs it may reduces the load optimal way to element\n",
    "    freq={}\n",
    "    for i in s:\n",
    "        if i not in freq.keys():\n",
    "            freq[i]=count(i)\n",
    "    values=sorted(freq.values(),reversed=True)\n",
    "    uniquevalues=list(set(values))\n",
    "    unique values=sorted(uniquevalues,reversed=True)\n",
    "    kvalue=uniquevalues[k-1]\n",
    "    \n",
    "    \n",
    "\n",
    "    \n",
    "    \n",
    "    \n",
    "            \n",
    "            "
   ]
  }
 ],
 "metadata": {
  "kernelspec": {
   "display_name": "Python 3",
   "language": "python",
   "name": "python3"
  },
  "language_info": {
   "codemirror_mode": {
    "name": "ipython",
    "version": 3
   },
   "file_extension": ".py",
   "mimetype": "text/x-python",
   "name": "python",
   "nbconvert_exporter": "python",
   "pygments_lexer": "ipython3",
   "version": "3.7.3"
  }
 },
 "nbformat": 4,
 "nbformat_minor": 2
}
