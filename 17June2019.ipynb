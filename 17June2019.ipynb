{
 "cells": [
  {
   "cell_type": "code",
   "execution_count": 2,
   "metadata": {},
   "outputs": [
    {
     "data": {
      "text/plain": [
       "'a b c'"
      ]
     },
     "execution_count": 2,
     "metadata": {},
     "output_type": "execute_result"
    }
   ],
   "source": [
    "#function to toggle string characters\n",
    "s=\"abc\"\n",
    "s.islower() #check the case of a character\n",
    "s.isupper()\n",
    "s.lower()# convert a character to lower case \n",
    "s.upper()# cnvert a character to upper case\n",
    "list(s)\n",
    "#s.split(\"\")\n",
    "\n",
    "s =list(s)\n",
    "\" \".join(s)\n",
    "\n"
   ]
  },
  {
   "cell_type": "code",
   "execution_count": 3,
   "metadata": {},
   "outputs": [
    {
     "data": {
      "text/plain": [
       "'aBc'"
      ]
     },
     "execution_count": 3,
     "metadata": {},
     "output_type": "execute_result"
    }
   ],
   "source": [
    "def togglestring(s):\n",
    "    # convert the string into list of characters\n",
    "    s=list(s)\n",
    "    t=[]\n",
    "    for c in s:\n",
    "        if c.islower():\n",
    "            t.append(c.upper())\n",
    "        else:\n",
    "            t.append(c.lower())\n",
    "    return \"\".join(t)\n",
    "togglestring(\"AbC\")\n",
    "        \n",
    "    \n",
    "    \n"
   ]
  },
  {
   "cell_type": "markdown",
   "metadata": {},
   "source": [
    "# Problem : DURATION\n",
    "\n",
    "**input** : start time, endtime (hh,mm)<br>\n",
    "   hh-{00, 01, 02, 03 ..... 23}   -{00 00, 23 59}<br>\n",
    "   mm-{00, 01, 02, 03 , .. 59}<br>\n",
    "    hh mm -{00 00, 23 59}<br>\n",
    "    \n",
    "    \n",
    "**output**:  time diff in hh mm \n"
   ]
  },
  {
   "cell_type": "code",
   "execution_count": null,
   "metadata": {},
   "outputs": [
    {
     "name": "stdout",
     "output_type": "stream",
     "text": [
      "0 30\n"
     ]
    }
   ],
   "source": [
    "# calculate the time difference as  total no of minutes \n",
    "# convert the total minutes into HH MM\n",
    "s=\"1 44 2 14\"\n",
    "def minutedifference(s):\n",
    "    s=s.split()# whenever we apply the split function then it converts into list\n",
    "    sh=int(s[0])\n",
    "    sm=int(s[1])\n",
    "    eh=int(s[2])\n",
    "    em=int(s[3])\n",
    "    startminutes=(sh*60)+sm  # it represnts the total no of hours and add it sum\n",
    "    endminutes=(eh*60)+em\n",
    "    return endminutes-startminutes\n",
    "def outputtimeformat(minutes):\n",
    "    # this function is used to convert to HH MM \n",
    "    hh=minutes//60\n",
    "    mm=minutes%60\n",
    "    print(hh,mm)\n",
    "    return \n",
    "minutes= minutedifference(s)\n",
    "outputtimeformat(minutes)\n",
    "n=int(input())\n",
    "#for i in range(0,n):\n",
    "   # s=input()\n",
    "    #minutes= minutedifference(s)\n",
    "    #outputtimeformat(minutes)"
   ]
  },
  {
   "cell_type": "markdown",
   "metadata": {},
   "source": [
    "### PLAY WITH NUMBERS\n",
    "line1: arraysize, no of queries(q)<br>\n",
    "line2:  n array elements<br>\n",
    "next q line: query--- sub array of original array<br>\n",
    "\n",
    "5 3 \n",
    "1 2 3 4 5 \n",
    "1 3 # represnts the elements from 1 to 3<br>\n",
    "2 4 # reprents the elements from 2 to 4<br>\n",
    "2 5 # represents the elemnents from 2 to 5  for that sub array calculate the avg<br>\n",
    "\n"
   ]
  },
  {
   "cell_type": "code",
   "execution_count": null,
   "metadata": {},
   "outputs": [],
   "source": []
  },
  {
   "cell_type": "code",
   "execution_count": null,
   "metadata": {},
   "outputs": [],
   "source": []
  },
  {
   "cell_type": "markdown",
   "metadata": {},
   "source": [
    "# HACKEREARTH EXAM QUESTIONS"
   ]
  },
  {
   "cell_type": "code",
   "execution_count": null,
   "metadata": {},
   "outputs": [],
   "source": []
  },
  {
   "cell_type": "code",
   "execution_count": null,
   "metadata": {},
   "outputs": [],
   "source": [
    "def perfectnumber(n):\n",
    "    sum=0\n",
    "    for i in range(1,n):\n",
    "        if n%i==0:\n",
    "            sum=sum+i\n",
    "    if sum==n:\n",
    "        print(\"YES\")\n",
    "    else:\n",
    "        print(\"NO\")\n",
    "    return\n",
    "n=int(input())\n",
    "perfectnumber(n)\n",
    "\n",
    "        "
   ]
  },
  {
   "cell_type": "code",
   "execution_count": null,
   "metadata": {},
   "outputs": [],
   "source": [
    "# function to determine whether a string is digit or letter\n",
    "def count(s):\n",
    "    c=0\n",
    "    a=0\n",
    "    for i in s:\n",
    "        if(i.isdigit()==True):\n",
    "            c=c+1\n",
    "        elif(i.isalpha()==True):\n",
    "            a=a+1\n",
    "    print(c)\n",
    "    print(a)\n",
    "    return\n",
    "s=input()\n",
    "count(s)"
   ]
  },
  {
   "cell_type": "markdown",
   "metadata": {},
   "source": [
    "# Problem: Highest Remaainder\n",
    "write a program to find a natural number that is smaller than N and leaves a highest remainder when divided by that number <br>\n",
    "if there is more than one such number, print the smallest one \n",
    "\n",
    "\n",
    "N\n",
    "highest=0\n",
    "x<N and n%x==highest<br>\n",
    "10<br>\n",
    "9  1 <br>\n",
    "8  2 <br>\n",
    "7 3 <br>\n",
    "6 4 <br>\n",
    "5 0<br>\n",
    "4 2 <br>\n",
    "3 1<br>\n",
    "2 0<br>\n",
    "\n",
    "eg2:       \n",
    "\n",
    "30 \n",
    "1<br>\n",
    "2<br>\n",
    "3<br>\n",
    "4<br>\n",
    "5<br>\n",
    "6<br>\n",
    "\n",
    "16 -- 14\n",
    "15 0\n",
    "\n",
    "eg3:\n",
    "9 <br>\n",
    "8 1<br>\n",
    "7 2<br>\n",
    "6 3<br>\n",
    "5 4<br>\n",
    "4 1<br>\n",
    "3 0<br>\n",
    "2 4<br>\n",
    "\n",
    "\n"
   ]
  },
  {
   "cell_type": "code",
   "execution_count": 10,
   "metadata": {},
   "outputs": [
    {
     "name": "stdout",
     "output_type": "stream",
     "text": [
      "3\n"
     ]
    }
   ],
   "source": [
    "# function to print highest remainder \n",
    "def remainder(n):\n",
    "    hr=0\n",
    "    v=n\n",
    "    for i in range(n-1,n//2,-1):\n",
    "        r= n % i\n",
    "        if r > hr:\n",
    "            hr = r\n",
    "            v = i\n",
    "    print(v)\n",
    "    return\n",
    "    \n",
    "remainder(5)\n"
   ]
  },
  {
   "cell_type": "markdown",
   "metadata": {},
   "source": [
    "# problem: special number\n",
    "A special number is defined as a number which has atleast P distinct Prime Factors <br>\n",
    "write a program to determine whether a number N is a special case<br>\n",
    "** Input format**<br>\n",
    "First line :P<br>\n",
    "Secondline :T<br>(number of test cases)\n",
    "Next T lines :N<br>\n",
    "**output format**<br> \n",
    "For each test case, print YES or NO depending on result\n",
    "\n",
    "\n",
    "            "
   ]
  },
  {
   "cell_type": "code",
   "execution_count": null,
   "metadata": {},
   "outputs": [
    {
     "name": "stdout",
     "output_type": "stream",
     "text": [
      "5\n",
      "3\n",
      "8\n",
      "NO\n"
     ]
    }
   ],
   "source": [
    "# FUNCTION  to determine if a number is special number \n",
    "def isspecialnumber(n,p):\n",
    "    if noofprimefactors(n)>=p:\n",
    "        return True\n",
    "    return False\n",
    "    \n",
    "# function to check if the number is prime---> smallest indenpendt function\n",
    "def isprime(n):\n",
    "    flag=1\n",
    "    if(n==2):\n",
    "        return True\n",
    "    for i in range(2,n//2+1):\n",
    "        if(n%i==0):\n",
    "            flag=0\n",
    "            return False\n",
    "    if flag==1:\n",
    "            return True\n",
    "isprime(100)       \n",
    "    \n",
    "# function to  determine number of prime factors for a given number \n",
    "#numberPrimefactors(30)--->2,3,5\n",
    "#numberprimefactors(2)--->1 beacuse the given number itself is prime\n",
    "def noofprimefactors(n):\n",
    "    if isprime(n):\n",
    "        return 1\n",
    "    count=0\n",
    "    for i in range(2,n//2+1):\n",
    "        if(isprime(i) and n %i==0):\n",
    "            count =count+1\n",
    "    return count\n",
    "noofprimefactors(30)\n",
    "#isspecialnumber(9,2)\n",
    "\n",
    "def solution2():# split is only used when we have multiple values\n",
    "    p=int(input())\n",
    "    t=int(input())\n",
    "    for i in range(0,t):\n",
    "        n=int(input())\n",
    "        if isspecialnumber(n,p):\n",
    "            print(\"YES\")\n",
    "        else:\n",
    "            print(\"NO\")\n",
    "solution2()\n"
   ]
  },
  {
   "cell_type": "code",
   "execution_count": null,
   "metadata": {},
   "outputs": [],
   "source": []
  },
  {
   "cell_type": "code",
   "execution_count": null,
   "metadata": {},
   "outputs": [],
   "source": []
  }
 ],
 "metadata": {
  "kernelspec": {
   "display_name": "Python 3",
   "language": "python",
   "name": "python3"
  },
  "language_info": {
   "codemirror_mode": {
    "name": "ipython",
    "version": 3
   },
   "file_extension": ".py",
   "mimetype": "text/x-python",
   "name": "python",
   "nbconvert_exporter": "python",
   "pygments_lexer": "ipython3",
   "version": "3.7.3"
  }
 },
 "nbformat": 4,
 "nbformat_minor": 2
}
