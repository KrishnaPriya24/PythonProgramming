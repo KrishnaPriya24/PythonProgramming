{
 "cells": [
  {
   "cell_type": "code",
   "execution_count": null,
   "metadata": {},
   "outputs": [],
   "source": []
  },
  {
   "cell_type": "code",
   "execution_count": null,
   "metadata": {},
   "outputs": [],
   "source": []
  },
  {
   "cell_type": "markdown",
   "metadata": {},
   "source": [
    "# PYTHON DATA STRUCTURES\n",
    " - LISTS\n",
    " "
   ]
  },
  {
   "cell_type": "code",
   "execution_count": 47,
   "metadata": {},
   "outputs": [
    {
     "name": "stdout",
     "output_type": "stream",
     "text": [
      "-1\n"
     ]
    }
   ],
   "source": [
    "a=[234,567, 456]\n",
    "\n",
    "a #acessing the entire list \n",
    "a[1] #acessing the element with index in list \n",
    "\n",
    "a[1:] # acessing all elemnts from  second element to last element \n",
    "\n",
    "a= a[:: -1]  # rversing the list elements and reassign the elemnents\n",
    "\n",
    "a\n",
    "\n",
    "a=a[::-1]\n",
    "a\n",
    "\n",
    "\n",
    "a[::2]#acessing the even index elements \n",
    "a[1::2]# acessing the odd index elements \n",
    "\n",
    "# Lists can be manipulated in two different ways\n",
    "    # Direct referencing    there is a chance of damaging the data is disadvantage  []  is direct referencing \n",
    "    #Indirect referencing    through functions  we can change manipulate the data \n",
    "# Adding an element to end of list \n",
    "a.append(587)\n",
    "a\n",
    "# adding an element at a particular index \n",
    "a.insert(1,345)\n",
    "a\n",
    "\n",
    "a.sort()# sort the elements in ascending order \n",
    "a\n",
    "\n",
    "# remove the last element in a list \n",
    "a.pop()\n",
    "a\n",
    "\n",
    "\n",
    "# remove an element at particular index \n",
    "\n",
    "a.pop(1)\n",
    "a\n",
    "b=[345,678,897]\n",
    "#merge list2 into list1 \n",
    "a.extend(b)\n",
    "a\n",
    "\n",
    "\n",
    "\n",
    "# functions in list\n",
    "sum(a) # sum of all elements in list\n",
    "max(a)  # maximum number of elements in list \n",
    "len(a)  # length of elements in list\n",
    "\n",
    "# average of list elements \n",
    "sum(a)/len(a)\n",
    "\n",
    "\n",
    "# avg of all alternate elements at even positions \n",
    "sum(a[::2])/len(a[::2])\n",
    "\n",
    "# avg of all index postions \n",
    "sum(a[1::2])/len(a[1::2])\n",
    "\n",
    "max(a)-1\n",
    "try:\n",
    "    a.counter(10000)\n",
    "except:\n",
    "    print(-1)\n",
    "\n",
    "\n"
   ]
  },
  {
   "cell_type": "code",
   "execution_count": 31,
   "metadata": {},
   "outputs": [
    {
     "data": {
      "text/plain": [
       "[234, 345, 456, 567, 678, 897]"
      ]
     },
     "execution_count": 31,
     "metadata": {},
     "output_type": "execute_result"
    }
   ],
   "source": [
    "# function to identify the second largest element in a  unique list\n",
    "    # sort the data and select the second last element \n",
    "    #sort the data in reverse order, and select the second element \n",
    "    # remove the max element and then get the max of new list \n",
    "    #\n",
    "def secondlargest(a):\n",
    "    a.sort()\n",
    "    return a[-2]\n",
    "    \n",
    "\n",
    "def genericlargest(a,n):\n",
    "    a.sort()\n",
    "    return a[-n]\n",
    "\n",
    "secondlargest(a)\n",
    "genericlargest(a,5)\n",
    "a\n"
   ]
  },
  {
   "cell_type": "code",
   "execution_count": 57,
   "metadata": {},
   "outputs": [
    {
     "data": {
      "text/plain": [
       "1"
      ]
     },
     "execution_count": 57,
     "metadata": {},
     "output_type": "execute_result"
    }
   ],
   "source": [
    "# function to search for data in a list \n",
    "# search for the key in the list and return the index element return -1 if key not found\n",
    "def linearsearch(a,key):\n",
    "    for counter in  range (0, len(a)):\n",
    "        if a[counter]==key:\n",
    "            return counter\n",
    "    return -1\n",
    "linearsearch(a,456)"
   ]
  },
  {
   "cell_type": "code",
   "execution_count": 42,
   "metadata": {},
   "outputs": [
    {
     "data": {
      "text/plain": [
       "3"
      ]
     },
     "execution_count": 42,
     "metadata": {},
     "output_type": "execute_result"
    }
   ],
   "source": [
    "# second procedure \n",
    "def linearsearch2(a,key):\n",
    "    for counter in a:\n",
    "        if counter==key:\n",
    "            return a.index(counter)\n",
    "    return -1\n",
    "linearsearch2(a,567)"
   ]
  },
  {
   "cell_type": "code",
   "execution_count": 58,
   "metadata": {},
   "outputs": [
    {
     "data": {
      "text/plain": [
       "1"
      ]
     },
     "execution_count": 58,
     "metadata": {},
     "output_type": "execute_result"
    }
   ],
   "source": [
    "# third procedure\n",
    "def linearsearch3(a,key):\n",
    "    if key in a:\n",
    "        return a.index(key)\n",
    "    return -1\n",
    "linearsearch3(a,456)"
   ]
  },
  {
   "cell_type": "code",
   "execution_count": 65,
   "metadata": {},
   "outputs": [
    {
     "data": {
      "text/plain": [
       "1"
      ]
     },
     "execution_count": 65,
     "metadata": {},
     "output_type": "execute_result"
    }
   ],
   "source": [
    "#function to count the occurences of a character in the given string  \n",
    "#\"pythonprogramming\" ,m-->2\n",
    "def countcharoccurances(s,c):\n",
    "    count=0\n",
    "    for ch in s:\n",
    "        if ch==c:\n",
    "            count +=1\n",
    "            return count\n",
    "def countcharoccurances2(s,c):\n",
    "    return s.count(c)\n",
    "countcharoccurances2(\"pythonprogramming\",'py')"
   ]
  },
  {
   "cell_type": "code",
   "execution_count": 69,
   "metadata": {},
   "outputs": [
    {
     "ename": "TypeError",
     "evalue": "'str' object cannot be interpreted as an integer",
     "output_type": "error",
     "traceback": [
      "\u001b[1;31m---------------------------------------------------------------------------\u001b[0m",
      "\u001b[1;31mTypeError\u001b[0m                                 Traceback (most recent call last)",
      "\u001b[1;32m<ipython-input-69-459de622cb76>\u001b[0m in \u001b[0;36m<module>\u001b[1;34m\u001b[0m\n\u001b[0;32m      5\u001b[0m         \u001b[1;32mfor\u001b[0m \u001b[0mlen\u001b[0m \u001b[1;32min\u001b[0m \u001b[0mrange\u001b[0m\u001b[1;33m(\u001b[0m\u001b[0mi\u001b[0m\u001b[1;33m+\u001b[0m\u001b[1;36m1\u001b[0m\u001b[1;33m,\u001b[0m\u001b[0mn\u001b[0m\u001b[1;33m+\u001b[0m\u001b[1;36m1\u001b[0m\u001b[1;33m)\u001b[0m\u001b[1;33m:\u001b[0m\u001b[1;33m\u001b[0m\u001b[1;33m\u001b[0m\u001b[0m\n\u001b[0;32m      6\u001b[0m             \u001b[0mprint\u001b[0m\u001b[1;33m(\u001b[0m\u001b[0ms\u001b[0m\u001b[1;33m[\u001b[0m\u001b[0mi\u001b[0m\u001b[1;33m:\u001b[0m \u001b[0mlen\u001b[0m\u001b[1;33m]\u001b[0m\u001b[1;33m)\u001b[0m\u001b[1;33m;\u001b[0m\u001b[1;33m\u001b[0m\u001b[1;33m\u001b[0m\u001b[0m\n\u001b[1;32m----> 7\u001b[1;33m \u001b[0msubstringoccurances\u001b[0m\u001b[1;33m(\u001b[0m\u001b[1;34m\"abcabcddcba\"\u001b[0m\u001b[1;33m,\u001b[0m\u001b[0mlen\u001b[0m\u001b[1;33m(\u001b[0m\u001b[0ms\u001b[0m\u001b[1;33m)\u001b[0m\u001b[1;33m)\u001b[0m\u001b[1;33m\u001b[0m\u001b[1;33m\u001b[0m\u001b[0m\n\u001b[0m",
      "\u001b[1;32m<ipython-input-69-459de622cb76>\u001b[0m in \u001b[0;36msubstringoccurances\u001b[1;34m(s, n)\u001b[0m\n\u001b[0;32m      2\u001b[0m \u001b[1;31m#\"abcabcddcba\",\"ab\"-->2\u001b[0m\u001b[1;33m\u001b[0m\u001b[1;33m\u001b[0m\u001b[1;33m\u001b[0m\u001b[0m\n\u001b[0;32m      3\u001b[0m \u001b[1;32mdef\u001b[0m \u001b[0msubstringoccurances\u001b[0m\u001b[1;33m(\u001b[0m\u001b[0ms\u001b[0m\u001b[1;33m,\u001b[0m\u001b[0mn\u001b[0m\u001b[1;33m)\u001b[0m\u001b[1;33m:\u001b[0m\u001b[1;33m\u001b[0m\u001b[1;33m\u001b[0m\u001b[0m\n\u001b[1;32m----> 4\u001b[1;33m     \u001b[1;32mfor\u001b[0m \u001b[0mi\u001b[0m \u001b[1;32min\u001b[0m \u001b[0mrange\u001b[0m\u001b[1;33m(\u001b[0m\u001b[0ms\u001b[0m\u001b[1;33m)\u001b[0m\u001b[1;33m:\u001b[0m\u001b[1;33m\u001b[0m\u001b[1;33m\u001b[0m\u001b[0m\n\u001b[0m\u001b[0;32m      5\u001b[0m         \u001b[1;32mfor\u001b[0m \u001b[0mlen\u001b[0m \u001b[1;32min\u001b[0m \u001b[0mrange\u001b[0m\u001b[1;33m(\u001b[0m\u001b[0mi\u001b[0m\u001b[1;33m+\u001b[0m\u001b[1;36m1\u001b[0m\u001b[1;33m,\u001b[0m\u001b[0mn\u001b[0m\u001b[1;33m+\u001b[0m\u001b[1;36m1\u001b[0m\u001b[1;33m)\u001b[0m\u001b[1;33m:\u001b[0m\u001b[1;33m\u001b[0m\u001b[1;33m\u001b[0m\u001b[0m\n\u001b[0;32m      6\u001b[0m             \u001b[0mprint\u001b[0m\u001b[1;33m(\u001b[0m\u001b[0ms\u001b[0m\u001b[1;33m[\u001b[0m\u001b[0mi\u001b[0m\u001b[1;33m:\u001b[0m \u001b[0mlen\u001b[0m\u001b[1;33m]\u001b[0m\u001b[1;33m)\u001b[0m\u001b[1;33m;\u001b[0m\u001b[1;33m\u001b[0m\u001b[1;33m\u001b[0m\u001b[0m\n",
      "\u001b[1;31mTypeError\u001b[0m: 'str' object cannot be interpreted as an integer"
     ]
    }
   ],
   "source": [
    "#function to find the number of occurances of substring \n",
    "#\"abcabcddcba\",\"ab\"-->2\n",
    "def substringoccurances(s,n):\n",
    "    for i in range(s): \n",
    "        for len in range(i+1,n+1): \n",
    "            print(s[i: len]); \n",
    "substringoccurances(\"abcabcddcba\",len(s))"
   ]
  },
  {
   "cell_type": "code",
   "execution_count": null,
   "metadata": {},
   "outputs": [],
   "source": []
  }
 ],
 "metadata": {
  "kernelspec": {
   "display_name": "Python 3",
   "language": "python",
   "name": "python3"
  },
  "language_info": {
   "codemirror_mode": {
    "name": "ipython",
    "version": 3
   },
   "file_extension": ".py",
   "mimetype": "text/x-python",
   "name": "python",
   "nbconvert_exporter": "python",
   "pygments_lexer": "ipython3",
   "version": "3.7.3"
  }
 },
 "nbformat": 4,
 "nbformat_minor": 2
}
