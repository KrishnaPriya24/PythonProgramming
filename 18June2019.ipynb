{
 "cells": [
  {
   "cell_type": "markdown",
   "metadata": {},
   "source": [
    "# play with numbers \n"
   ]
  },
  {
   "cell_type": "code",
   "execution_count": null,
   "metadata": {},
   "outputs": [],
   "source": [
    "n=input().split()\n",
    "n[0],n[1]=int(n[0]),int(n[1])\n",
    "a=input().split()\n",
    "sum=[] # initalize cummulative sum array \n",
    "#cummulative sum \n",
    "for i in range(0,n[0]):\n",
    "    if i==0:\n",
    "        sum.append(int(a[i]))\n",
    "        #sum[i]=a[i]\n",
    "    else:\n",
    "        sum.append(int(sum[i-1])+int(a[i]))\n",
    "        #sum[i]=sum[i-1]+a[1]# first element\n",
    "#print(sum(n[0]-1))\n",
    "del a\n",
    "# read each array element and calculate average\n",
    "for i in range(0,n[1]):\n",
    "    inq=input().split()\n",
    "    i=int(inq[0])\n",
    "    j=int(inq[1])\n",
    "    if i>1:\n",
    "        print((sum[j-1]-sum[i-2])//(j-i+1))\n",
    "    else:\n",
    "        print((sum[j-1])//(j-i+1))"
   ]
  },
  {
   "cell_type": "code",
   "execution_count": null,
   "metadata": {},
   "outputs": [],
   "source": [
    "1 2 3 4 5 \n",
    "2 4                                                    #sum[0]=   # first element\n",
    "                                                    #sum[1]=   # first+ second \n",
    "                                                    #sum[2]=   # sum[1]+third\n",
    "sum[4+1]-sum[2-1]\n",
    "10-1=9\n",
    "\n"
   ]
  },
  {
   "cell_type": "markdown",
   "metadata": {},
   "source": [
    "### Tuples\n",
    "t1()<br>\n",
    "li=[]<br>\n",
    "- Differences between lists and tuples<br>\n",
    "lists are mutable - can be changed /modified<br>\n",
    "- Acess,Modify ,Add, Delete data<br>\n",
    "tuples are immutable - can not be changed once intalized <br>\n",
    "- used to acess data only\n",
    "- All slicing work\n",
    "\n",
    "\n"
   ]
  },
  {
   "cell_type": "code",
   "execution_count": 2,
   "metadata": {},
   "outputs": [
    {
     "data": {
      "text/plain": [
       "(8, 6, 0)"
      ]
     },
     "execution_count": 2,
     "metadata": {},
     "output_type": "execute_result"
    }
   ],
   "source": [
    "t1=(1,2,8,6,0)\n",
    "t1[3] # acessing fourth element \n",
    "t1[len(t1)//2:]  # acessing the second half of elements in particular object\n"
   ]
  },
  {
   "cell_type": "code",
   "execution_count": 3,
   "metadata": {},
   "outputs": [
    {
     "data": {
      "text/plain": [
       "tuple"
      ]
     },
     "execution_count": 3,
     "metadata": {},
     "output_type": "execute_result"
    }
   ],
   "source": [
    "type(t1)"
   ]
  },
  {
   "cell_type": "markdown",
   "metadata": {},
   "source": [
    "### DICTIONARIES \n",
    "It works on the concept of set<br>\n",
    "Values are unique<br>\n",
    "\n",
    "\n",
    "keys,values <br>\n",
    "key is the unique identifier for a value<br>\n",
    "value is data that can be acessed with key<br>\n",
    "\n"
   ]
  },
  {
   "cell_type": "code",
   "execution_count": 14,
   "metadata": {},
   "outputs": [
    {
     "data": {
      "text/plain": [
       "False"
      ]
     },
     "execution_count": 14,
     "metadata": {},
     "output_type": "execute_result"
    }
   ],
   "source": [
    "d1={\"k1\":\"value1\",\"k2\":\"value2\"}\n",
    "d1[\"k2\"]# acessing list of all keys\n",
    "d1.keys()#returns list of all keys \n",
    "d1.values()#returns list of all values\n",
    "d1.items()# returns list of tuples of keys and values\n",
    "d1[\"k3\"]=\"value3\"  # adding an element to the dictionary \n",
    "d1[\"k3\"]=\"value4\"   # updating an element \n",
    "d1.pop(\"k3\")  # removing an element \n",
    "\"k1\" in d1  # searching for item in dictionaries \n",
    "\"value1\" in d1"
   ]
  },
  {
   "cell_type": "markdown",
   "metadata": {},
   "source": [
    "### Contacts Application\n",
    "- Add contact\n",
    "- search for contact\n",
    "- list all contacts\n",
    "- modify contact\n",
    "- remove contact\n"
   ]
  },
  {
   "cell_type": "code",
   "execution_count": 31,
   "metadata": {},
   "outputs": [
    {
     "name": "stdout",
     "output_type": "stream",
     "text": [
      "contact name1 added \n"
     ]
    }
   ],
   "source": [
    "contacts={}\n",
    "\n",
    "def addcontact(name,phone):\n",
    "    # verify that the contact does not already exist\n",
    "    if name not in contacts:\n",
    "        contacts[name]=phone\n",
    "        print(\"contact %s added \" % name)\n",
    "    else:\n",
    "        print(\"contact %s already there \" % name)\n",
    "    return\n",
    "addcontact(\"name1\",\"127873878383\")"
   ]
  },
  {
   "cell_type": "code",
   "execution_count": 16,
   "metadata": {},
   "outputs": [
    {
     "data": {
      "text/plain": [
       "{'name1': '127873878383'}"
      ]
     },
     "execution_count": 16,
     "metadata": {},
     "output_type": "execute_result"
    }
   ],
   "source": [
    "contacts\n"
   ]
  },
  {
   "cell_type": "code",
   "execution_count": 18,
   "metadata": {},
   "outputs": [
    {
     "name": "stdout",
     "output_type": "stream",
     "text": [
      "name10 does not exist\n"
     ]
    }
   ],
   "source": [
    "#search the contacts\n",
    "def searchcontacts(name):\n",
    "    if name in contacts:\n",
    "        print(name,\":\",contacts[name])\n",
    "    else:\n",
    "        print(\"%s does not exist\"% name )\n",
    "    return\n",
    "searchcontacts(\"name10\")"
   ]
  },
  {
   "cell_type": "code",
   "execution_count": 46,
   "metadata": {},
   "outputs": [
    {
     "name": "stdout",
     "output_type": "stream",
     "text": [
      "{'name1': '127873878383', 'name': '949188348488', 'name3': '67998656743657'}\n"
     ]
    }
   ],
   "source": [
    "#list all the contacts\n",
    "d1 = {\"name1\":\"phone1\",\"name2\":\"phone2\"}\n",
    "\n",
    "print(contacts)"
   ]
  },
  {
   "cell_type": "code",
   "execution_count": 49,
   "metadata": {},
   "outputs": [
    {
     "name": "stdout",
     "output_type": "stream",
     "text": [
      "2 contacts added \n"
     ]
    }
   ],
   "source": [
    "def importcontacts(newcontacts):\n",
    "    contacts.update(newcontacts)\n",
    "    print(len(newcontacts.keys()),\"contacts added \")\n",
    "    return \n",
    "\n",
    "newcontacts ={\"name\": \"949188348488\",\"name3\":\"67998656743657\"}\n",
    "\n",
    "importcontacts(newcontacts)"
   ]
  },
  {
   "cell_type": "code",
   "execution_count": 48,
   "metadata": {},
   "outputs": [
    {
     "name": "stdout",
     "output_type": "stream",
     "text": [
      "{'name1': '127873878383', 'name': '949188348488'}\n"
     ]
    }
   ],
   "source": [
    "# removing the contacts\n",
    "contacts.pop(\"name3\",\"phone3\")\n",
    "print(contacts)"
   ]
  },
  {
   "cell_type": "code",
   "execution_count": 75,
   "metadata": {},
   "outputs": [],
   "source": [
    "#modify the contacts\n",
    "a={\"1\":\"priya\"}\n",
    "a[\"1\"]=\"krishnapr\"\n"
   ]
  },
  {
   "cell_type": "markdown",
   "metadata": {},
   "source": [
    "### Package and modules\n",
    "- package---> it is a collection of modules (Python File.py) and subpackages\n",
    "** sub packages ** --> \n",
    "- module----> a single python file containing functions \n",
    "packages---> subpackage---> modules---> functions \n",
    "\n"
   ]
  },
  {
   "cell_type": "code",
   "execution_count": 52,
   "metadata": {},
   "outputs": [
    {
     "data": {
      "text/plain": [
       "3.141592653589793"
      ]
     },
     "execution_count": 52,
     "metadata": {},
     "output_type": "execute_result"
    }
   ],
   "source": [
    "import math  #module\n",
    "math.floor(123.456)\n",
    "math.pi\n"
   ]
  },
  {
   "cell_type": "code",
   "execution_count": 57,
   "metadata": {},
   "outputs": [
    {
     "data": {
      "text/plain": [
       "3.141592653589793"
      ]
     },
     "execution_count": 57,
     "metadata": {},
     "output_type": "execute_result"
    }
   ],
   "source": [
    "#shortcut  importing a single function\n",
    "from math import floor,pi\n",
    "floor(123.45678)\n",
    "pi"
   ]
  },
  {
   "cell_type": "code",
   "execution_count": 58,
   "metadata": {},
   "outputs": [
    {
     "data": {
      "text/plain": [
       "123"
      ]
     },
     "execution_count": 58,
     "metadata": {},
     "output_type": "execute_result"
    }
   ],
   "source": [
    "from math import floor as fl  # renaming the current functions is also possible in python\n",
    "fl(123.456)"
   ]
  },
  {
   "cell_type": "code",
   "execution_count": 69,
   "metadata": {},
   "outputs": [
    {
     "name": "stdout",
     "output_type": "stream",
     "text": [
      "17 6 11 47 48 40 4 9 17 44 "
     ]
    }
   ],
   "source": [
    "# define a function to generate n random numbers  eg: for studnet marks \n",
    "import random\n",
    "def generateNrandomnumber(n,lb,ub):\n",
    "    for i in range(0,n):\n",
    "        print(random.randint(lb,ub),end=\" \")\n",
    "generateNrandomnumber(10,0,100)\n",
    "\n",
    "\n"
   ]
  },
  {
   "cell_type": "code",
   "execution_count": null,
   "metadata": {},
   "outputs": [],
   "source": [
    "def isspecialnumber(n,p):\n",
    "    if noofprimefactors(n)>=p:\n",
    "        return True\n",
    "    return False\n",
    "    \n",
    "# function to check if the number is prime---> smallest indenpendt function\n",
    "def isprime(n):\n",
    "    flag=1\n",
    "    if(n==2):\n",
    "        return True\n",
    "    for i in range(2,n//2+1):\n",
    "        if(n%i==0):\n",
    "            flag=0\n",
    "            return False\n",
    "    if flag==1:\n",
    "            return True\n",
    "isprime(100)       \n",
    "    \n",
    "# function to  determine number of prime factors for a given number \n",
    "#numberPrimefactors(30)--->2,3,5\n",
    "#numberprimefactors(2)--->1 beacuse the given number itself is prime\n",
    "def noofprimefactors(n):\n",
    "    if isprime(n):\n",
    "        return 1\n",
    "    count=0\n",
    "    for i in range(2,n//2+1):\n",
    "        if(isprime(i) and n %i==0):\n",
    "            count =count+1\n",
    "    return count\n",
    "noofprimefactors(30)\n",
    "#isspecialnumber(9,2)\n",
    "\n",
    "def solution2():# split is only used when we have multiple values\n",
    "    p=int(input())\n",
    "    t=int(input())\n",
    "    for i in range(0,t):\n",
    "        n=int(input())\n",
    "        if isspecialnumber(n,p):\n",
    "            print(\"YES\")\n",
    "        else:\n",
    "            print(\"NO\")\n",
    "solution2()\n",
    "\n",
    "\n",
    "\n",
    "\n",
    "\n"
   ]
  },
  {
   "cell_type": "code",
   "execution_count": 73,
   "metadata": {},
   "outputs": [
    {
     "data": {
      "text/plain": [
       "True"
      ]
     },
     "execution_count": 73,
     "metadata": {},
     "output_type": "execute_result"
    }
   ],
   "source": [
    "from Packages import numerical\n",
    "#numerical.noofprimefactors(10000)\n",
    "#numerical.isprime(103)"
   ]
  },
  {
   "cell_type": "code",
   "execution_count": 74,
   "metadata": {},
   "outputs": [
    {
     "data": {
      "text/plain": [
       "False"
      ]
     },
     "execution_count": 74,
     "metadata": {},
     "output_type": "execute_result"
    }
   ],
   "source": [
    "from Packages.numerical import isprime\n",
    "isprime(105)"
   ]
  },
  {
   "cell_type": "code",
   "execution_count": null,
   "metadata": {},
   "outputs": [],
   "source": []
  }
 ],
 "metadata": {
  "kernelspec": {
   "display_name": "Python 3",
   "language": "python",
   "name": "python3"
  },
  "language_info": {
   "codemirror_mode": {
    "name": "ipython",
    "version": 3
   },
   "file_extension": ".py",
   "mimetype": "text/x-python",
   "name": "python",
   "nbconvert_exporter": "python",
   "pygments_lexer": "ipython3",
   "version": "3.7.3"
  }
 },
 "nbformat": 4,
 "nbformat_minor": 2
}
