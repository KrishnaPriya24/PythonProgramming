{
 "cells": [
  {
   "cell_type": "markdown",
   "metadata": {},
   "source": [
    "### Date : 20 June 2019\n",
    "   Day Objectives:\n",
    "         - Regular Expressions\n",
    "       -  Constructing Regular Expressions for various use cases\n",
    "           -Regular Expressions Module and related in Python\n",
    "            -Improving the Contacts application with name and phone number validation using regular expressions<br>\n",
    "            -File Handling\n",
    "            -Text Files\n",
    "            -Upgrading the Contacts Application to store contact information in a text file\n"
   ]
  },
  {
   "cell_type": "code",
   "execution_count": 3,
   "metadata": {},
   "outputs": [],
   "source": []
  },
  {
   "cell_type": "markdown",
   "metadata": {},
   "source": [
    "# REGULAR EXPRESSIONS:\n",
    "- Pattern Matching\n",
    "- symbolic notation of pattern\n",
    "       -pattern format which repeat\n",
    "       -Pattern(RE) represents The set of all values that match a pattern\n",
    "[0-9]   any digit \n",
    "[a-z]  any lower case alphabet \n",
    "[2 4 6 8] single digit multiples of 2  \n",
    "^[0-9]{1} only single digit numbers \n",
    "^[0-9]{3} only multiples of digit 3 \n",
    " [0-9]*10 $  all digits mulitples of 10\n",
    " ^([1-9][0-9]*[05])$|^([5])$  All multiples of 5\n",
    "  All 10 digit number\n",
    "  [w][o][r][d] or(word) searching for (word)\n",
    " ^[6-9][0-9]{9}$|^[0][6-9][0-9]{9}|^[+][9][1][6-9][0-9]{9}$ Validating Phone number(India)(start with 9876 followed by 9 digits)\n",
    "^[0-9a-z][0-9a-z_.]{4,13}[0-9a-z][@][a-z0-9]{3,18}[.][a-z]{2,4}$  Email Validation( username@domain.extension )\n",
    "- username specifications\n",
    "- Length of username : [6,15]\n",
    "- No special characters other than _ .\n",
    "- Should not begin and end with _ .\n",
    "- Character Set : all digits and lower case alphabet _.\n",
    "- domain specifications\n",
    "- Length of domain : [3, 18]\n",
    "- No special characters\n",
    "- Character Set : all digits and lower case alphabet\n",
    "- extension specifications\n",
    "- Length of extension : [2, 4]\n",
    "- No special characters\n",
    "- Character Set : lower case alphabet\n",
    "- ^[a]...[z]$ Any string of length 5 that starts with 'a' and ends with 'z'\n",
    " -  ^[a].*[z]$ Any string of any length that starts with 'a' and ends with 'z'\n",
    "\n",
    "\n"
   ]
  },
  {
   "cell_type": "code",
   "execution_count": null,
   "metadata": {},
   "outputs": [],
   "source": []
  },
  {
   "cell_type": "code",
   "execution_count": 8,
   "metadata": {},
   "outputs": [
    {
     "data": {
      "text/plain": [
       "True"
      ]
     },
     "execution_count": 8,
     "metadata": {},
     "output_type": "execute_result"
    }
   ],
   "source": [
    "#function to validate a phone number \n",
    "import re\n",
    "def phonenumbervalidator(number):\n",
    "    pattern='^[6-9][0-9]{9}$|^[0][6-9][0-9]{9}|^[+][9][1][6-9][0-9]{9}$'\n",
    "    if re.match(pattern,str(number)):\n",
    "        return True\n",
    "    return False\n",
    "phonenumbervalidator(7062524346)\n",
    " "
   ]
  },
  {
   "cell_type": "code",
   "execution_count": 9,
   "metadata": {},
   "outputs": [
    {
     "data": {
      "text/plain": [
       "False"
      ]
     },
     "execution_count": 9,
     "metadata": {},
     "output_type": "execute_result"
    }
   ],
   "source": [
    "# function to validate email address\n",
    "import re \n",
    "def emailvalidator(name):\n",
    "    pattern='^[0-9 a-z][0-9 a-z _.]{4-13}[0-9a-z][@][a-z0-9]{3,18}[.][a-z]{2,4}$'\n",
    "    if re.match(pattern,name):\n",
    "        return True\n",
    "    return False\n",
    "emailvalidator(\"kp@gmail.com\")"
   ]
  },
  {
   "cell_type": "code",
   "execution_count": null,
   "metadata": {},
   "outputs": [],
   "source": []
  },
  {
   "cell_type": "code",
   "execution_count": null,
   "metadata": {},
   "outputs": [],
   "source": [
    "# function to add contact\n"
   ]
  },
  {
   "cell_type": "code",
   "execution_count": 51,
   "metadata": {},
   "outputs": [
    {
     "name": "stdout",
     "output_type": "stream",
     "text": [
      "name1\n",
      "Phone : 818486732\n",
      "Email : name1@gmail.com\n"
     ]
    }
   ],
   "source": [
    "# function to search a contact\n",
    "def searchContacts(name):\n",
    "    if name in contacts:\n",
    "        print(name)\n",
    "        print(\"Phone :\", contacts[name][0])\n",
    "        print(\"Email :\", contacts[name][1])\n",
    "    else:\n",
    "        print(\"%s does not exist\" % name)\n",
    "    return\n",
    "\n",
    "searchContacts(\"name1\")\n",
    "        "
   ]
  },
  {
   "cell_type": "code",
   "execution_count": null,
   "metadata": {},
   "outputs": [],
   "source": []
  },
  {
   "cell_type": "code",
   "execution_count": 52,
   "metadata": {},
   "outputs": [
    {
     "name": "stdout",
     "output_type": "stream",
     "text": [
      "1 contacts added successfully\n"
     ]
    },
    {
     "data": {
      "text/plain": [
       "dict_items([('name1', [818486732, 'name1@gmail.com']), ('name2', [6034786217, 'name2@gmail.com']), ('name4', [9753108642, 'name4_123@gmail.com'])])"
      ]
     },
     "execution_count": 52,
     "metadata": {},
     "output_type": "execute_result"
    }
   ],
   "source": [
    "def importContacts(newContacts):\n",
    "    contacts.update(newContacts)\n",
    "    print(len(newContacts.keys()), \"contacts added successfully\")\n",
    "    return\n",
    "\n",
    "newContacts = {\"name4\":[9753108642, \"name4_123@gmail.com\"]}\n",
    "\n",
    "importContacts(newContacts)\n",
    "contacts.items()"
   ]
  },
  {
   "cell_type": "code",
   "execution_count": null,
   "metadata": {},
   "outputs": [],
   "source": []
  },
  {
   "cell_type": "code",
   "execution_count": 53,
   "metadata": {},
   "outputs": [
    {
     "name": "stdout",
     "output_type": "stream",
     "text": [
      "name1 \n",
      " Phone : 818486732 \n",
      " Email : name1@gmail.com\n",
      "name2 \n",
      " Phone : 6034786217 \n",
      " Email : name2@gmail.com\n",
      "name4 \n",
      " Phone : 9753108642 \n",
      " Email : name4_123@gmail.com\n"
     ]
    }
   ],
   "source": [
    "# Function to list all contacts\n",
    "\n",
    "def listAllContacts():\n",
    "    for contact, info in contacts.items():\n",
    "        print(contact, \"\\n\", \"Phone :\", info[0], \"\\n\", \"Email :\", info[1])\n",
    "    return\n",
    "\n",
    "listAllContacts()"
   ]
  },
  {
   "cell_type": "markdown",
   "metadata": {},
   "source": [
    "### File Handling in Python:\n",
    "- File document containing information residing on the permanent storage types such as PDF,CSV,Text etc\n",
    "- File I/O: Chanelling input data to files default I/O chanell :keyboard/screen\n",
    "- change I/O: channel to files for reading and writing into files\n",
    "- Read a file - Input from file Write to a file - Output to a file\n",
    "- Read / write file - open(filename, mode)\n"
   ]
  },
  {
   "cell_type": "code",
   "execution_count": 48,
   "metadata": {},
   "outputs": [
    {
     "name": "stdout",
     "output_type": "stream",
     "text": [
      "line1\n",
      "line2\n",
      "line3\n",
      "line4line1\n",
      "line2\n",
      "line3\n",
      "line4\n"
     ]
    }
   ],
   "source": [
    "# function to read a file \n",
    "def readFile(filename):\n",
    "    f = open(filename, 'r')\n",
    "    filedata = f.read()\n",
    "    f.close()\n",
    "    return filedata\n",
    "\n",
    "filename = 'DataFiles/data.txt'\n",
    "filedata = readFile(filename)\n",
    "#for line in filedata.split('\\n'):\n",
    "#    print(line)\n",
    "\n",
    "    \n",
    "def printFileDataLines(filename):\n",
    "    with open(filename, 'r') as f:\n",
    "        for line in f:\n",
    "            print(line, end='')\n",
    "    return\n",
    "\n",
    "printFileDataLines(filename)\n",
    "print(readFile(filename))"
   ]
  },
  {
   "cell_type": "code",
   "execution_count": 49,
   "metadata": {},
   "outputs": [],
   "source": [
    "# function to write a file \n",
    "def writeIntoFile(filename, filedata):\n",
    "    with open(filename, 'w') as f:\n",
    "        f.write(filedata)\n",
    "    return\n",
    "\n",
    "filename = 'DataFiles/data.txt'\n",
    "\n",
    "writeIntoFile(filename, \"new data\\n\")"
   ]
  },
  {
   "cell_type": "code",
   "execution_count": 50,
   "metadata": {},
   "outputs": [],
   "source": [
    "# function to append a file \n",
    "def appendDataToFile(filename, filedata):\n",
    "    with open(filename, 'a') as f:\n",
    "        for line in filedata:\n",
    "            f.write('\\n'+line)\n",
    "    return\n",
    "\n",
    "filedata = [\"Line4\", \"Line5\"]\n",
    "appendDataToFile(filename, filedata)\n"
   ]
  },
  {
   "cell_type": "code",
   "execution_count": null,
   "metadata": {},
   "outputs": [],
   "source": []
  }
 ],
 "metadata": {
  "kernelspec": {
   "display_name": "Python 3",
   "language": "python",
   "name": "python3"
  },
  "language_info": {
   "codemirror_mode": {
    "name": "ipython",
    "version": 3
   },
   "file_extension": ".py",
   "mimetype": "text/x-python",
   "name": "python",
   "nbconvert_exporter": "python",
   "pygments_lexer": "ipython3",
   "version": "3.7.3"
  }
 },
 "nbformat": 4,
 "nbformat_minor": 2
}
