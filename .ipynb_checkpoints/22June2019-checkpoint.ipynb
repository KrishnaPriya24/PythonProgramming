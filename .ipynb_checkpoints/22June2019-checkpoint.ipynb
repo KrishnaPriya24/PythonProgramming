{
 "cells": [
  {
   "cell_type": "markdown",
   "metadata": {},
   "source": [
    "### DATE: 22 June 2019\n",
    "### Day Objectives\n",
    "- File Handling\n",
    "    - Basic File Data Processing\n",
    "        - Acessing and modifying the file data<br>\n",
    "       -character count<br>\n",
    "       -Line count<br>\n",
    "       -File Size<br>\n",
    "       -wordcount<br>\n",
    "       -unique word count<br>"
   ]
  },
  {
   "cell_type": "code",
   "execution_count": 4,
   "metadata": {},
   "outputs": [
    {
     "name": "stdout",
     "output_type": "stream",
     "text": [
      "<class '_io.TextIOWrapper'>\n",
      "line1\n",
      "line2\n",
      "line3\n",
      "line4\n"
     ]
    }
   ],
   "source": [
    "# Read a file -file should exist(read mode)\n",
    "# write into file -- existing (append mode)or new file(write mode)\n",
    "def readfile(filepath):\n",
    "    with open(filepath,'r') as f: # reference to file object\n",
    "        print(type(f))\n",
    "        fileData=f.read()\n",
    "    return fileData\n",
    "filepath='DataFiles/data.txt'\n",
    "print (readfile(filepath))"
   ]
  },
  {
   "cell_type": "code",
   "execution_count": 31,
   "metadata": {},
   "outputs": [
    {
     "name": "stdout",
     "output_type": "stream",
     "text": [
      "total no of characters 23\n"
     ]
    }
   ],
   "source": [
    "# function to check for character count\n",
    "def charactercount(filepath):\n",
    "    count=0\n",
    "    with open(filepath,'r') as f:\n",
    "        filepath='DataFiles/data.txt'\n",
    "        fileData=f.read()\n",
    "        for i in fileData:\n",
    "                count=count+1\n",
    "        print(\"total no of characters\",count)\n",
    "charactercount(filepath)"
   ]
  },
  {
   "cell_type": "code",
   "execution_count": 34,
   "metadata": {},
   "outputs": [
    {
     "name": "stdout",
     "output_type": "stream",
     "text": [
      "4\n"
     ]
    }
   ],
   "source": [
    "# function to check for word count\n",
    "def wordcount(filepath):\n",
    "    with open(filepath,'r')as f:\n",
    "        s=f.read().split()\n",
    "        print(len(s))\n",
    "filepath='DataFiles/data.txt'\n",
    "wordcount(filepath)"
   ]
  },
  {
   "cell_type": "code",
   "execution_count": 32,
   "metadata": {},
   "outputs": [
    {
     "name": "stdout",
     "output_type": "stream",
     "text": [
      "1\n",
      "2\n",
      "3\n",
      "4\n"
     ]
    }
   ],
   "source": [
    "def linecount(filepath):\n",
    "    with open(filepath,'r') as f:\n",
    "        linecount=0\n",
    "        for i in f:\n",
    "            linecount=linecount+1\n",
    "            print(linecount)\n",
    "filepath='DataFiles/data.txt'\n",
    "linecount(filepath)"
   ]
  },
  {
   "cell_type": "code",
   "execution_count": 35,
   "metadata": {},
   "outputs": [
    {
     "name": "stdout",
     "output_type": "stream",
     "text": [
      "0.023\n"
     ]
    }
   ],
   "source": [
    "# file size\n",
    "import os\n",
    "filepath='DataFiles/data.txt'\n",
    "a=os.path.getsize(filepath)\n",
    "a=a/1000\n",
    "print(a)"
   ]
  },
  {
   "cell_type": "code",
   "execution_count": 36,
   "metadata": {},
   "outputs": [
    {
     "name": "stdout",
     "output_type": "stream",
     "text": [
      "0.023 KB\n",
      "23\n"
     ]
    }
   ],
   "source": [
    "# file size \n",
    "def filesize(filepath):\n",
    "    with open(filepath,'r') as f:\n",
    "        filedata=f.read()\n",
    "        charcount=0\n",
    "        for i in filedata:\n",
    "            charcount+=1\n",
    "        a=charcount/1000\n",
    "        print(a,\"KB\")\n",
    "        return charcount\n",
    "filepath='DataFiles/data.txt'\n",
    "print(filesize(filepath))"
   ]
  },
  {
   "cell_type": "code",
   "execution_count": null,
   "metadata": {},
   "outputs": [],
   "source": [
    "#unique word \n"
   ]
  }
 ],
 "metadata": {
  "kernelspec": {
   "display_name": "Python 3",
   "language": "python",
   "name": "python3"
  },
  "language_info": {
   "codemirror_mode": {
    "name": "ipython",
    "version": 3
   },
   "file_extension": ".py",
   "mimetype": "text/x-python",
   "name": "python",
   "nbconvert_exporter": "python",
   "pygments_lexer": "ipython3",
   "version": "3.7.3"
  }
 },
 "nbformat": 4,
 "nbformat_minor": 2
}
