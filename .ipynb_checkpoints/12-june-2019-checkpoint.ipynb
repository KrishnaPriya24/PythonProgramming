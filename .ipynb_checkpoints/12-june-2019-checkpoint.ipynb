{
 "cells": [
  {
   "cell_type": "markdown",
   "metadata": {},
   "source": [
    "# Day objectives :\n",
    "- string Slicing \n",
    "- functions in python \n",
    "- basic problems related to conditional statements using functions \n",
    "-  iterations in python \n",
    "   - for \n",
    "   - while \n",
    " ### For Loop in python \n",
    " [101,210]\n",
    " for number in range(101,210+1) \n",
    " # if we want the inclusive range then ub+1\n",
    " - print(number)\n",
    " o/p:\n",
    "101\n",
    ".\n",
    "102\n",
    ".\n",
    ".\n",
    ".\n",
    "210\n",
    "\n",
    "\n"
   ]
  },
  {
   "cell_type": "markdown",
   "metadata": {},
   "source": [
    "# String Slicing \n",
    "\n"
   ]
  },
  {
   "cell_type": "code",
   "execution_count": 12,
   "metadata": {},
   "outputs": [
    {
     "data": {
      "text/plain": [
       "'h'"
      ]
     },
     "execution_count": 12,
     "metadata": {},
     "output_type": "execute_result"
    }
   ],
   "source": [
    "#s1=\"pythonhrrhhreuheuiiwruuteiorutioe\"\n",
    "s1=\"pythonprogramming\"\n",
    "#s1[len(s1)-1]# getting last character from string \n",
    "s1[-1] # return the last character in  string\n",
    "s1[0]# Acess the first character in string \n",
    "s1[1]#Acess the last character in string \n",
    "s1[-2]#Acess the last but one character\n",
    "\n",
    "\n",
    "s1[0:2] # whenever we want to give the first two character must be added by 1  it stops at s1[2]\n",
    "\n",
    "\n",
    "s1[-2:] #acessing the last two characters in a string # blank represnt -2 to end of string \n",
    "s1[4:]  #acessing all character 5th character to end of string \n",
    "\n",
    "#Acessing all charcters except first and last character \n",
    "s1[1:-1]\n",
    "\n",
    "\n",
    "#Acessing middle charcter of  odd length string \n",
    "s2=\"python1\"\n",
    "s2[len(s2)//2 # integer division \n",
    "\n"
   ]
  },
  {
   "cell_type": "code",
   "execution_count": 26,
   "metadata": {},
   "outputs": [
    {
     "data": {
      "text/plain": [
       "'pto'"
      ]
     },
     "execution_count": 26,
     "metadata": {},
     "output_type": "execute_result"
    }
   ],
   "source": [
    "s1=\"python\"  #Reverse of String \n",
    "s1[-1:: -1]   #first part represnt start value 2nd part represnt   middle value 3rd value repr forward or reverse\n",
    "\n",
    "#acessing last two characters of string in reverse order \n",
    "s1[-1:-3:-1]\n",
    "\n",
    "\n",
    "# Reverse the middle two characters in an even length string\n",
    "\n",
    "s1[len(s1//2:len(s1)//2 -2:-1]\n",
    "\n",
    "\n",
    "\n",
    "\n",
    "\n",
    "#acessing alternate charcters in reverse order and same order \n",
    "s1[: :-2]\n",
    "\n",
    "s1[: : 2] \n",
    "\n",
    "\n",
    "\n"
   ]
  },
  {
   "cell_type": "markdown",
   "metadata": {},
   "source": [
    "# Functions\n"
   ]
  },
  {
   "cell_type": "code",
   "execution_count": 27,
   "metadata": {},
   "outputs": [
    {
     "data": {
      "text/plain": [
       "'nohtyp'"
      ]
     },
     "execution_count": 27,
     "metadata": {},
     "output_type": "execute_result"
    }
   ],
   "source": [
    "def reverseString(s):\n",
    "    return s[::-1]\n",
    "\n",
    "reverseString(\"python\")"
   ]
  },
  {
   "cell_type": "code",
   "execution_count": 36,
   "metadata": {},
   "outputs": [
    {
     "data": {
      "text/plain": [
       "False"
      ]
     },
     "execution_count": 36,
     "metadata": {},
     "output_type": "execute_result"
    }
   ],
   "source": [
    "#function to check whether if string is a palindrome \n",
    "def palindrome(s):\n",
    "    if s==s[::-1]:\n",
    "        return True \n",
    "    else:\n",
    "        return False \n",
    "palindrome(\"abc\")"
   ]
  },
  {
   "cell_type": "code",
   "execution_count": 40,
   "metadata": {},
   "outputs": [
    {
     "data": {
      "text/plain": [
       "False"
      ]
     },
     "execution_count": 40,
     "metadata": {},
     "output_type": "execute_result"
    }
   ],
   "source": [
    "#function to check if a given year is a leap year \n",
    "def isleapyear(year):\n",
    "    if year%400==0 or (year%100!=0 and year%4==0):\n",
    "        return True\n",
    "    return False\n",
    "\n",
    "isleapyear(2019)"
   ]
  },
  {
   "cell_type": "code",
   "execution_count": 43,
   "metadata": {},
   "outputs": [
    {
     "data": {
      "text/plain": [
       "False"
      ]
     },
     "execution_count": 43,
     "metadata": {},
     "output_type": "execute_result"
    }
   ],
   "source": [
    "# count the no of digits\n",
    "def countdigits(n):\n",
    "    return len (str(n))\n",
    "    return False\n",
    "count(123456)\n",
    "    "
   ]
  },
  {
   "cell_type": "code",
   "execution_count": 45,
   "metadata": {},
   "outputs": [
    {
     "data": {
      "text/plain": [
       "547"
      ]
     },
     "execution_count": 45,
     "metadata": {},
     "output_type": "execute_result"
    }
   ],
   "source": [
    "#function to identify the greatest of 4 numbers \n",
    "def greatest4(n1,n2,n3,n4):\n",
    "    if(n1>n2 and n1>n3 and n1>n4):\n",
    "        return n1\n",
    "    elif(n2>n3 and n2>n4):\n",
    "        return n2\n",
    "    elif (n3>n4):\n",
    "        return n3\n",
    "    else:\n",
    "        return n4\n",
    "greatest4(1,547,123,34)\n",
    "        \n",
    "\n",
    "\n",
    "\n",
    "\n",
    "\n"
   ]
  },
  {
   "cell_type": "code",
   "execution_count": null,
   "metadata": {},
   "outputs": [],
   "source": []
  },
  {
   "cell_type": "markdown",
   "metadata": {},
   "source": [
    "### ITERATIONS\n",
    "- for \n",
    "- while"
   ]
  },
  {
   "cell_type": "code",
   "execution_count": 2,
   "metadata": {},
   "outputs": [
    {
     "name": "stdout",
     "output_type": "stream",
     "text": [
      "0 1 2 3 4 5 6 7 8 9 10 11 12 13 14 15 16 17 18 19 20 "
     ]
    }
   ],
   "source": [
    "# Function to print n numbers \n",
    "\n",
    "def NaturalNumbers(n):\n",
    "    for counter in range(0,n+1):\n",
    "        print(counter, end =\" \")\n",
    "    #return \n",
    "NaturalNumbers(20)\n",
    "\n",
    "\n"
   ]
  },
  {
   "cell_type": "code",
   "execution_count": 4,
   "metadata": {},
   "outputs": [
    {
     "name": "stdout",
     "output_type": "stream",
     "text": [
      "500 504 508 512 516 520 524 528 532 536 540 544 548 "
     ]
    }
   ],
   "source": [
    "#function to print the alternate values in a range in the same line   (where to start and stop ) \n",
    "#[500 ,550]----> 500 502 504 ..... 550 inclusive range \n",
    "#(500,550) ----> 501 503 505 ..... 549 exclusive range \n",
    "#range(500,550)--> 500 501 502...... 549\n",
    "# for all set based functions in python start value is inclusive and end value exclusive \n",
    "def alternatevalues(lb,ub):\n",
    "    for counter in range(lb,ub+1, 4):\n",
    "        print(counter,end =\" \")\n",
    "    return #only printing not acessing any values \n",
    "alternatevalues(500,550)\n",
    "\n",
    "\n",
    "\n"
   ]
  },
  {
   "cell_type": "code",
   "execution_count": 18,
   "metadata": {},
   "outputs": [
    {
     "name": "stdout",
     "output_type": "stream",
     "text": [
      "525 524 523 522 521 520 519 518 517 516 515 514 513 512 511 510 509 508 507 506 505 504 503 502 501 500 "
     ]
    }
   ],
   "source": [
    "#function to print reverse of given range in the same line \n",
    "def reversevalues(lb,ub):\n",
    "    for counter in range(ub, lb-1 ,-1):#lb-1 is exclusive\n",
    "        print(counter,end=\" \")\n",
    "    return \n",
    "reversevalues(500,525)"
   ]
  },
  {
   "cell_type": "code",
   "execution_count": 20,
   "metadata": {},
   "outputs": [
    {
     "name": "stdout",
     "output_type": "stream",
     "text": [
      "97531"
     ]
    }
   ],
   "source": [
    "#function to print only the odd numbers in reverse order in a range\n",
    "def oddvalues(lb,ub):\n",
    "    for counter in range(ub,lb-1,-1):\n",
    "        if counter%2!=0:\n",
    "            print(counter,end=\" \")\n",
    "    return \n",
    "oddvalues(1,10)\n",
    "    "
   ]
  },
  {
   "cell_type": "code",
   "execution_count": 28,
   "metadata": {},
   "outputs": [
    {
     "data": {
      "text/plain": [
       "15050.0"
      ]
     },
     "execution_count": 28,
     "metadata": {},
     "output_type": "execute_result"
    }
   ],
   "source": [
    "#function to print calculate the sum of numbers in a range \n",
    "def sumofnumbers(lb,ub):\n",
    "    sum=0\n",
    "    for counter in range(lb,ub+1):\n",
    "        sum=sum+counter\n",
    "    #print(sum, end =\" \")\n",
    "    return sum\n",
    "sumofnumbers(100,200)\n",
    "200*201/2-(100*101/2)"
   ]
  },
  {
   "cell_type": "code",
   "execution_count": 35,
   "metadata": {},
   "outputs": [
    {
     "data": {
      "text/plain": [
       "3.0"
      ]
     },
     "execution_count": 35,
     "metadata": {},
     "output_type": "execute_result"
    }
   ],
   "source": [
    "#function to calculate the average of given range \n",
    "#(1,5)-->3\n",
    "def avgofnumbers(lb,ub):\n",
    "    sum=0\n",
    "    avg=0\n",
    "    for counter in range(lb,ub+1):\n",
    "        sum=sum+counter #sum=sum+i\n",
    "        avg=sum/counter  #count=count+1\n",
    "    return avg          # return sum/(end-start+1)\n",
    "avgofnumbers(1,5)\n",
    "    "
   ]
  },
  {
   "cell_type": "code",
   "execution_count": 14,
   "metadata": {},
   "outputs": [
    {
     "name": "stdout",
     "output_type": "stream",
     "text": [
      "1920 1924 1928 1932 1936 1940 1944 1948 1952 1956 1960 1964 1968 1972 1976 1980 1984 1988 1992 1996 2000 2004 2008 2012 2016 "
     ]
    }
   ],
   "source": [
    "#function to generate all leap years in a given time period \n",
    "#[2000-2020] --->2000 2002 2004 2008 2012 2016 2020 \n",
    "#isleapyear(year)  to check whether a year is leap or not \n",
    "#generateleapyears(startyear,end year) uses the isleapyear ()\n",
    "def isleapyear(year):\n",
    "    if(year%400==0 or (year%100!=0 and year%4==0)):\n",
    "        return True\n",
    "    return False\n",
    "def generateleapyear(startyear,endyear):\n",
    "    for year in range (startyear,endyear+1):\n",
    "        if isleapyear(year):\n",
    "            print(year, end=\" \")\n",
    "    return \n",
    "generateleapyear(1919, 2019)  "
   ]
  },
  {
   "cell_type": "code",
   "execution_count": 15,
   "metadata": {},
   "outputs": [
    {
     "data": {
      "text/plain": [
       "365"
      ]
     },
     "execution_count": 15,
     "metadata": {},
     "output_type": "execute_result"
    }
   ],
   "source": [
    "#calculate the no of days in a given time period --->(365* (20 +6))\n",
    "def noofdays(startyear,endyear):\n",
    "    sum=0\n",
    "    for year in range (startyear,endyear+1):\n",
    "        if isleapyear(year):\n",
    "            sum= sum+366\n",
    "        else:\n",
    "            sum= sum+365\n",
    "        return sum\n",
    "noofdays(2017,2018)\n"
   ]
  },
  {
   "cell_type": "code",
   "execution_count": 17,
   "metadata": {},
   "outputs": [
    {
     "data": {
      "text/plain": [
       "2232"
      ]
     },
     "execution_count": 17,
     "metadata": {},
     "output_type": "execute_result"
    }
   ],
   "source": [
    "#function to calculate number of hours for a given period \n",
    "#(11,1975,03,1999)---->204504 or \n",
    "# no of hours (5,2019,6,2019)--->1464\n",
    "# 2 ,2017 ,6, 2019\n",
    "# [all days from feb 2016 to dec 2016]\n",
    "# [all days from jan to june 2019 ]\n",
    "# no of hours =24* no of days \n",
    "# 3 steps \n",
    "   # 1. start month year to end of year calculate no of days \n",
    "   # 2.calculate days for all years between start year and end year exclusive \n",
    "        # 2018  - 365* no of years \n",
    "    # 3. calculate days from Jan to end month \n",
    "# excluding feb \n",
    "# first six months --- 1,3,4,5,6,7 \n",
    "                        # all odd months have 31 days \n",
    "#\n",
    "#-- all odd months have 31 days \n",
    "# all even months have \n",
    "\n",
    "\n",
    "def numberofdays(month,year):\n",
    "    if month==2:\n",
    "        if isleapyear(year):\n",
    "            return 29\n",
    "        return 28\n",
    "    elif (month<=7 and month %2!=0) or(month!=2):\n",
    "        return 31\n",
    "    else:\n",
    "        return 30\n",
    "numberofdaysmonth(4,2019)\n",
    "def daysinstartyear(startmonth,startyear):\n",
    "    days=0\n",
    "    for month in range(startmonth,13):\n",
    "        days +=numberofdaysmonth(month,startyear)\n",
    "        return days\n",
    "def daysinendyear(endmonth,endyear):\n",
    "    days=0\n",
    "    for month in range(1,endmonth+1):\n",
    "        days +=numberofdaysmonth(month,endyear)\n",
    "        return days \n",
    "daysinendyear(2,2019)\n",
    "def noofhours(startmonth,startyear,endmonth,endyear):\n",
    "    days=0\n",
    "    days +=daysinstartyear(startmonth,startyear)\n",
    "    days +=daysinendyear(endmonth,endyear)\n",
    "    if endyear-startyear==1:\n",
    "        days+=noofdays(startyear+1,startyear+1)\n",
    "    elif endyear-startyear>2:\n",
    "        days+=numberofdays(startyear+1,endyear-1)\n",
    "        return  24* days\n",
    "noofhours(11,1975,3,1999)\n",
    "        \n",
    "        \n",
    "    \n",
    "\n"
   ]
  },
  {
   "cell_type": "code",
   "execution_count": 57,
   "metadata": {},
   "outputs": [
    {
     "name": "stdout",
     "output_type": "stream",
     "text": [
      "1 2 3 4 5 6 7 8 9 10 "
     ]
    }
   ],
   "source": [
    "#Function to print N Natural numbers using a while loop \n",
    "def naturalnumbers(n):\n",
    "    counter=1\n",
    "    while counter<=n:\n",
    "        print(counter, end = \" \")\n",
    "        counter=counter+1\n",
    "    return \n",
    "naturalnumbers(10)\n",
    "\n",
    "\n",
    "\n"
   ]
  },
  {
   "cell_type": "code",
   "execution_count": 73,
   "metadata": {},
   "outputs": [
    {
     "name": "stdout",
     "output_type": "stream",
     "text": [
      "12 18 24 30 36 42 48 54 60 66 72 78 84 90 96 102 108 114 120 126 132 138 144 150 156 162 168 174 180 186 192 198 204 210 216 222 228 234 240 246 252 258 264 270 276 282 288 294 300 306 312 318 324 330 336 342 348 354 360 366 372 378 384 390 396 402 408 414 420 426 432 438 444 450 456 462 468 474 480 486 492 498 504 510 516 522 528 534 540 546 552 558 564 570 576 582 588 594 600 606 612 618 624 630 636 642 648 654 660 666 672 678 684 690 696 702 708 714 720 726 732 738 744 750 756 762 768 774 780 786 792 798 804 810 816 822 828 834 840 846 852 858 864 870 876 882 888 894 900 906 912 918 924 930 936 942 948 954 960 966 972 978 984 990 996 "
     ]
    }
   ],
   "source": [
    "# function to print all numbers  divisible by 6 and not a factor of 100 in a given range (lb,ub)\n",
    "def numbers(lb,ub):\n",
    "    for  n in range(lb,ub):\n",
    "        if(n%6==0 and 100%n!=0):\n",
    "            print(n,end=\" \")\n",
    "numbers(10,1000)\n",
    "            \n",
    "\n",
    "\n",
    "\n",
    "\n"
   ]
  },
  {
   "cell_type": "code",
   "execution_count": 96,
   "metadata": {},
   "outputs": [
    {
     "data": {
      "text/plain": [
       "129346.88"
      ]
     },
     "execution_count": 96,
     "metadata": {},
     "output_type": "execute_result"
    }
   ],
   "source": [
    "#function to find the average of cubes of all even numbers in a given range(lb,ub) inclusive\n",
    "def avgcubeeven(lb,ub):\n",
    "    sum=0\n",
    "    count=0\n",
    "    for i in range(lb,ub+1):\n",
    "        if i%2==0:\n",
    "            sum+=i**3\n",
    "            count=count+1\n",
    "    return sum/(ub-lb)\n",
    "avgcubeeven(50,75)"
   ]
  },
  {
   "cell_type": "code",
   "execution_count": 12,
   "metadata": {},
   "outputs": [
    {
     "name": "stdout",
     "output_type": "stream",
     "text": [
      "1 2 3 4 6 12 \n"
     ]
    }
   ],
   "source": [
    "#function to  generate list  of factors for a given number 12---> 1 2 3 4 6 12 \n",
    "def listoffactors(n):\n",
    "    for i in range(1,n+1):\n",
    "        if(n%i==0):\n",
    "            print(i,end=\" \")\n",
    "    print()  \n",
    "    \n",
    "listoffactors(12)\n",
    "\n",
    "\n"
   ]
  },
  {
   "cell_type": "code",
   "execution_count": 78,
   "metadata": {},
   "outputs": [
    {
     "name": "stdout",
     "output_type": "stream",
     "text": [
      "1\n",
      "2\n",
      "6\n",
      "24\n"
     ]
    }
   ],
   "source": [
    "#function to check calculate the factorial of a given number \n",
    "def fact(n):\n",
    "    fact=1\n",
    "    for i in range (1,n+1):\n",
    "        fact=fact*i\n",
    "        print(fact)\n",
    "fact(4)\n",
    "    \n"
   ]
  },
  {
   "cell_type": "code",
   "execution_count": 87,
   "metadata": {},
   "outputs": [
    {
     "data": {
      "text/plain": [
       "False"
      ]
     },
     "execution_count": 87,
     "metadata": {},
     "output_type": "execute_result"
    }
   ],
   "source": [
    "#function to check if a given number is prime \n",
    "def prime (n):\n",
    "    count=0\n",
    "    for i in range (1,n+1):\n",
    "        if(n%i==0):\n",
    "            count=count+1\n",
    "    if count==2:\n",
    "            return True\n",
    "    else:\n",
    "        return False\n",
    "prime(9)\n",
    "    "
   ]
  },
  {
   "cell_type": "code",
   "execution_count": 1,
   "metadata": {},
   "outputs": [
    {
     "ename": "NameError",
     "evalue": "name 'n' is not defined",
     "output_type": "error",
     "traceback": [
      "\u001b[1;31m---------------------------------------------------------------------------\u001b[0m",
      "\u001b[1;31mNameError\u001b[0m                                 Traceback (most recent call last)",
      "\u001b[1;32m<ipython-input-1-52000e3e544f>\u001b[0m in \u001b[0;36m<module>\u001b[1;34m\u001b[0m\n\u001b[0;32m      9\u001b[0m             \u001b[1;32melse\u001b[0m\u001b[1;33m:\u001b[0m\u001b[1;33m\u001b[0m\u001b[1;33m\u001b[0m\u001b[0m\n\u001b[0;32m     10\u001b[0m                 \u001b[1;32mreturn\u001b[0m \u001b[1;32mFalse\u001b[0m\u001b[1;33m\u001b[0m\u001b[1;33m\u001b[0m\u001b[0m\n\u001b[1;32m---> 11\u001b[1;33m \u001b[0mgenerateNprime\u001b[0m\u001b[1;33m(\u001b[0m\u001b[1;36m20\u001b[0m\u001b[1;33m,\u001b[0m\u001b[1;36m30\u001b[0m\u001b[1;33m)\u001b[0m\u001b[1;33m\u001b[0m\u001b[1;33m\u001b[0m\u001b[0m\n\u001b[0m\u001b[0;32m     12\u001b[0m \u001b[1;33m\u001b[0m\u001b[0m\n\u001b[0;32m     13\u001b[0m \u001b[1;33m\u001b[0m\u001b[0m\n",
      "\u001b[1;32m<ipython-input-1-52000e3e544f>\u001b[0m in \u001b[0;36mgenerateNprime\u001b[1;34m(lb, ub)\u001b[0m\n\u001b[0;32m      2\u001b[0m \u001b[1;32mdef\u001b[0m \u001b[0mgenerateNprime\u001b[0m\u001b[1;33m(\u001b[0m\u001b[0mlb\u001b[0m\u001b[1;33m,\u001b[0m\u001b[0mub\u001b[0m\u001b[1;33m)\u001b[0m\u001b[1;33m:\u001b[0m\u001b[1;33m\u001b[0m\u001b[1;33m\u001b[0m\u001b[0m\n\u001b[0;32m      3\u001b[0m     \u001b[0mcounter\u001b[0m\u001b[1;33m=\u001b[0m\u001b[1;36m0\u001b[0m\u001b[1;33m\u001b[0m\u001b[1;33m\u001b[0m\u001b[0m\n\u001b[1;32m----> 4\u001b[1;33m     \u001b[1;32mfor\u001b[0m \u001b[0mcounter\u001b[0m \u001b[1;32min\u001b[0m \u001b[0mrange\u001b[0m\u001b[1;33m(\u001b[0m\u001b[1;36m1\u001b[0m\u001b[1;33m,\u001b[0m\u001b[0mn\u001b[0m\u001b[1;33m+\u001b[0m\u001b[1;36m1\u001b[0m\u001b[1;33m)\u001b[0m\u001b[1;33m:\u001b[0m\u001b[1;33m\u001b[0m\u001b[1;33m\u001b[0m\u001b[0m\n\u001b[0m\u001b[0;32m      5\u001b[0m         \u001b[1;32mif\u001b[0m\u001b[1;33m(\u001b[0m\u001b[0mn\u001b[0m\u001b[1;33m%\u001b[0m\u001b[0mcounter\u001b[0m\u001b[1;33m==\u001b[0m\u001b[1;36m0\u001b[0m\u001b[1;33m)\u001b[0m\u001b[1;33m:\u001b[0m\u001b[1;33m\u001b[0m\u001b[1;33m\u001b[0m\u001b[0m\n\u001b[0;32m      6\u001b[0m             \u001b[0mcounter\u001b[0m\u001b[1;33m=\u001b[0m\u001b[0mcounter\u001b[0m\u001b[1;33m+\u001b[0m\u001b[1;36m1\u001b[0m\u001b[1;33m\u001b[0m\u001b[1;33m\u001b[0m\u001b[0m\n",
      "\u001b[1;31mNameError\u001b[0m: name 'n' is not defined"
     ]
    }
   ],
   "source": [
    "#function to generate N prime numbers \n",
    "def generateNprime(lb,ub):\n",
    "    counter=0\n",
    "    for counter in range(1,n+1):\n",
    "        if(n%counter==0):\n",
    "            counter=counter+1\n",
    "            if(counter==2):\n",
    "                return True\n",
    "            else:\n",
    "                return False\n",
    "generateNprime(20,30)\n",
    "        \n",
    "        \n",
    "\n",
    "\n"
   ]
  },
  {
   "cell_type": "code",
   "execution_count": 65,
   "metadata": {},
   "outputs": [],
   "source": [
    "#function to calculate the average first N prime numbers "
   ]
  },
  {
   "cell_type": "code",
   "execution_count": null,
   "metadata": {},
   "outputs": [],
   "source": []
  },
  {
   "cell_type": "code",
   "execution_count": null,
   "metadata": {
    "collapsed": true
   },
   "outputs": [
    {
     "name": "stdout",
     "output_type": "stream",
     "text": [
      "Below are all perfect numbers till 10000\n",
      "6  is a perfect number\n",
      "28  is a perfect number\n",
      "496  is a perfect number\n",
      "8128  is a perfect number\n",
      "Below are all perfect numbers till 10000\n"
     ]
    }
   ],
   "source": []
  },
  {
   "cell_type": "code",
   "execution_count": null,
   "metadata": {},
   "outputs": [],
   "source": [
    "#function to generate all perfect numbers in given range \n",
    "def perfectnumbers(a,n):\n",
    "    for i in range (1,n+1):\n",
    "        sum=0\n",
    "        sum=sum+i\n",
    "            if(sum==n):\n",
    "                print(\"it is perfect number\")\n",
    "            else:\n",
    "                print(\"it is not perfect number\")\n",
    "perfectnumbers(1,10)\n"
   ]
  },
  {
   "cell_type": "code",
   "execution_count": 4,
   "metadata": {},
   "outputs": [
    {
     "ename": "NameError",
     "evalue": "name 'r' is not defined",
     "output_type": "error",
     "traceback": [
      "\u001b[1;31m---------------------------------------------------------------------------\u001b[0m",
      "\u001b[1;31mNameError\u001b[0m                                 Traceback (most recent call last)",
      "\u001b[1;32m<ipython-input-4-3d6a878b97b0>\u001b[0m in \u001b[0;36m<module>\u001b[1;34m\u001b[0m\n\u001b[0;32m      8\u001b[0m     \u001b[1;32melse\u001b[0m\u001b[1;33m:\u001b[0m\u001b[1;33m\u001b[0m\u001b[1;33m\u001b[0m\u001b[0m\n\u001b[0;32m      9\u001b[0m         \u001b[0mprint\u001b[0m\u001b[1;33m(\u001b[0m\u001b[1;34m\"it is not amstrong\"\u001b[0m\u001b[1;33m)\u001b[0m\u001b[1;33m\u001b[0m\u001b[1;33m\u001b[0m\u001b[0m\n\u001b[1;32m---> 10\u001b[1;33m \u001b[0mamstrongnumber\u001b[0m\u001b[1;33m(\u001b[0m\u001b[1;36m123\u001b[0m\u001b[1;33m)\u001b[0m\u001b[1;33m\u001b[0m\u001b[1;33m\u001b[0m\u001b[0m\n\u001b[0m",
      "\u001b[1;32m<ipython-input-4-3d6a878b97b0>\u001b[0m in \u001b[0;36mamstrongnumber\u001b[1;34m(n)\u001b[0m\n\u001b[0;32m      2\u001b[0m \u001b[1;32mdef\u001b[0m \u001b[0mamstrongnumber\u001b[0m\u001b[1;33m(\u001b[0m\u001b[0mn\u001b[0m\u001b[1;33m)\u001b[0m\u001b[1;33m:\u001b[0m\u001b[1;33m\u001b[0m\u001b[1;33m\u001b[0m\u001b[0m\n\u001b[0;32m      3\u001b[0m     \u001b[0msum\u001b[0m\u001b[1;33m=\u001b[0m\u001b[1;36m0\u001b[0m\u001b[1;33m\u001b[0m\u001b[1;33m\u001b[0m\u001b[0m\n\u001b[1;32m----> 4\u001b[1;33m     \u001b[0msum\u001b[0m\u001b[1;33m=\u001b[0m\u001b[0msum\u001b[0m\u001b[1;33m+\u001b[0m\u001b[1;33m(\u001b[0m\u001b[0mr\u001b[0m\u001b[1;33m*\u001b[0m\u001b[0mr\u001b[0m\u001b[1;33m*\u001b[0m\u001b[0mr\u001b[0m\u001b[1;33m)\u001b[0m\u001b[1;33m\u001b[0m\u001b[1;33m\u001b[0m\u001b[0m\n\u001b[0m\u001b[0;32m      5\u001b[0m     \u001b[0mn\u001b[0m\u001b[1;33m=\u001b[0m\u001b[0mn\u001b[0m\u001b[1;33m/\u001b[0m\u001b[1;36m10\u001b[0m\u001b[1;33m\u001b[0m\u001b[1;33m\u001b[0m\u001b[0m\n\u001b[0;32m      6\u001b[0m     \u001b[1;32mif\u001b[0m \u001b[0msum\u001b[0m\u001b[1;33m==\u001b[0m\u001b[0mn\u001b[0m\u001b[1;33m:\u001b[0m\u001b[1;33m\u001b[0m\u001b[1;33m\u001b[0m\u001b[0m\n",
      "\u001b[1;31mNameError\u001b[0m: name 'r' is not defined"
     ]
    }
   ],
   "source": [
    "# Function to generate N am-strong number\n",
    "def amstrongnumber(n):\n",
    "    sum=0\n",
    "    r=123\n",
    "    \n",
    "    sum=sum+(r*r*r)\n",
    "    n=n/10\n",
    "    if sum==n:\n",
    "        print(\"it is amstrong \")\n",
    "    else:\n",
    "        print(\"it is not amstrong\")\n",
    "amstrongnumber(123)\n"
   ]
  },
  {
   "cell_type": "code",
   "execution_count": null,
   "metadata": {},
   "outputs": [],
   "source": []
  }
 ],
 "metadata": {
  "kernelspec": {
   "display_name": "Python 3",
   "language": "python",
   "name": "python3"
  },
  "language_info": {
   "codemirror_mode": {
    "name": "ipython",
    "version": 3
   },
   "file_extension": ".py",
   "mimetype": "text/x-python",
   "name": "python",
   "nbconvert_exporter": "python",
   "pygments_lexer": "ipython3",
   "version": "3.7.3"
  }
 },
 "nbformat": 4,
 "nbformat_minor": 2
}
