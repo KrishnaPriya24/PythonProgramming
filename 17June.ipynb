{
 "cells": [
  {
   "cell_type": "code",
   "execution_count": 8,
   "metadata": {},
   "outputs": [
    {
     "data": {
      "text/plain": [
       "'a b c'"
      ]
     },
     "execution_count": 8,
     "metadata": {},
     "output_type": "execute_result"
    }
   ],
   "source": [
    "#function to toggle string characters\n",
    "s=\"abc\"\n",
    "s.islower() #check the case of a character\n",
    "s.isupper()\n",
    "s.lower()# convert a character to lower case \n",
    "s.upper()# cnvert a character to upper case\n",
    "list(s)\n",
    "#s.split(\"\")\n",
    "\n",
    "s =list(s)\n",
    "\" \".join(s)\n",
    "\n"
   ]
  },
  {
   "cell_type": "code",
   "execution_count": 3,
   "metadata": {},
   "outputs": [
    {
     "data": {
      "text/plain": [
       "['a', 'B', 'c']"
      ]
     },
     "execution_count": 3,
     "metadata": {},
     "output_type": "execute_result"
    }
   ],
   "source": [
    "def togglestring(s):\n",
    "    # convert the string into list of characters\n",
    "    s=list(s)\n",
    "    t=[]\n",
    "    for c in s:\n",
    "        if c.islower():\n",
    "            t.append(c.upper())\n",
    "        else:\n",
    "            t.append(c.lower())\n",
    "    return \"\".join(t)\n",
    "togglestring(\"AbC\")\n",
    "        \n",
    "    \n",
    "    \n"
   ]
  },
  {
   "cell_type": "markdown",
   "metadata": {},
   "source": [
    "# Problem : DURATION\n",
    "\n",
    "**input** : start time, endtime (hh,mm)<br>\n",
    "   hh-{00, 01, 02, 03 ..... 23}   -{00 00, 23 59}<br>\n",
    "   mm-{00, 01, 02, 03 , .. 59}<br>\n",
    "    hh mm -{00 00, 23 59}<br>\n",
    "    \n",
    "    \n",
    "**output**:  time diff in hh mm \n"
   ]
  },
  {
   "cell_type": "code",
   "execution_count": 11,
   "metadata": {},
   "outputs": [
    {
     "name": "stdout",
     "output_type": "stream",
     "text": [
      "0 30\n"
     ]
    }
   ],
   "source": [
    "# calculate the time difference as  total no of minutes \n",
    "# convert the total minutes into HH MM\n",
    "s=\"1 44 2 14\"\n",
    "def minutedifference(s):\n",
    "    s=s.split()# whenever we apply the split function then it converts into list\n",
    "    sh=int(s[0])\n",
    "    sm=int(s[1])\n",
    "    eh=int(s[2])\n",
    "    em=int(s[3])\n",
    "    startminutes=(sh*60)+sm  # it represnts the total no of hours and add it sum\n",
    "    endminutes=(eh*60)+em\n",
    "    return endminutes-startminutes\n",
    "def outputtimeformat(minutes):\n",
    "    # this function is used to convert to HH MM \n",
    "    hh=minutes//60\n",
    "    mm=minutes%60\n",
    "    print(hh,mm)\n",
    "    return \n",
    "minutes= minutedifference(s)\n",
    "outputtimeformat(minutes)\n",
    "n=int(input())\n",
    "#for i in range(0,n):\n",
    "   # s=input()\n",
    "    #minutes= minutedifference(s)\n",
    "    #outputtimeformat(minutes)"
   ]
  },
  {
   "cell_type": "markdown",
   "metadata": {},
   "source": [
    "### PLAY WITH NUMBERS\n",
    "line1: arraysize, no of queries(q)<br>\n",
    "line2:  n array elements<br>\n",
    "next q line: query--- sub array of original array<br>\n",
    "\n",
    "5 3 \n",
    "1 2 3 4 5 \n",
    "1 3 # represnts the elements from 1 to 3<br>\n",
    "2 4 # reprents the elements from 2 to 4<br>\n",
    "2 5 # represents the elemnents from 2 to 5  for that sub array calculate the avg<br>\n",
    "\n"
   ]
  },
  {
   "cell_type": "code",
   "execution_count": 4,
   "metadata": {},
   "outputs": [
    {
     "name": "stdout",
     "output_type": "stream",
     "text": [
      "\n"
     ]
    }
   ],
   "source": [
    "n=input()\n",
    "def playwithnumbers(start,end+1):\n",
    "    l1=[]  # nof inputs\n",
    "    l2=[]  # no of questions \n",
    "    elements passing \n",
    "    questions passing \n",
    "    \n",
    "    \n",
    "    sum=0\n",
    "    avg=0\n",
    "    for i in n:\n",
    "        \n",
    "        avg=floor(sum/n)\n",
    "playwithnumbers(n)"
   ]
  },
  {
   "cell_type": "code",
   "execution_count": null,
   "metadata": {},
   "outputs": [],
   "source": []
  },
  {
   "cell_type": "markdown",
   "metadata": {},
   "source": [
    "# HACKEREARTH EXAM QUESTIONS"
   ]
  },
  {
   "cell_type": "code",
   "execution_count": null,
   "metadata": {},
   "outputs": [],
   "source": []
  },
  {
   "cell_type": "code",
   "execution_count": 13,
   "metadata": {},
   "outputs": [
    {
     "name": "stdout",
     "output_type": "stream",
     "text": [
      "30\n",
      "NO\n"
     ]
    }
   ],
   "source": [
    "def perfectnumber(n):\n",
    "    sum=0\n",
    "    for i in range(1,n):\n",
    "        if n%i==0:\n",
    "            sum=sum+i\n",
    "    if sum==n:\n",
    "        print(\"YES\")\n",
    "    else:\n",
    "        print(\"NO\")\n",
    "    return\n",
    "n=int(input())\n",
    "perfectnumber(n)\n",
    "\n",
    "        "
   ]
  },
  {
   "cell_type": "code",
   "execution_count": 17,
   "metadata": {},
   "outputs": [
    {
     "name": "stdout",
     "output_type": "stream",
     "text": [
      "sa23g56\n",
      "4\n",
      "3\n"
     ]
    }
   ],
   "source": [
    "def count(s):\n",
    "    c=0\n",
    "    a=0\n",
    "    for i in s:\n",
    "        if(i.isdigit()==True):\n",
    "            c=c+1\n",
    "        elif(i.isalpha()==True):\n",
    "            a=a+1\n",
    "    print(c)\n",
    "    print(a)\n",
    "    return\n",
    "s=input()\n",
    "count(s)"
   ]
  },
  {
   "cell_type": "code",
   "execution_count": null,
   "metadata": {},
   "outputs": [],
   "source": []
  }
 ],
 "metadata": {
  "kernelspec": {
   "display_name": "Python 3",
   "language": "python",
   "name": "python3"
  },
  "language_info": {
   "codemirror_mode": {
    "name": "ipython",
    "version": 3
   },
   "file_extension": ".py",
   "mimetype": "text/x-python",
   "name": "python",
   "nbconvert_exporter": "python",
   "pygments_lexer": "ipython3",
   "version": "3.7.3"
  }
 },
 "nbformat": 4,
 "nbformat_minor": 2
}
