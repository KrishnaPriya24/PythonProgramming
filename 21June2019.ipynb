{
 "cells": [
  {
   "cell_type": "code",
   "execution_count": 24,
   "metadata": {},
   "outputs": [
    {
     "data": {
      "text/plain": [
       "True"
      ]
     },
     "execution_count": 24,
     "metadata": {},
     "output_type": "execute_result"
    }
   ],
   "source": [
    "#function to validate a phone number \n",
    "import re\n",
    "def phonenumbervalidator(number):\n",
    "    pattern='^[6-9][0-9]{9}$|^[0][6-9][0-9]{9}|^[+][9][1][6-9][0-9]{9}$'\n",
    "    if re.match(pattern,str(number)):\n",
    "        return True\n",
    "    return False\n",
    "phonenumbervalidator(7062524346)\n",
    " "
   ]
  },
  {
   "cell_type": "code",
   "execution_count": 25,
   "metadata": {},
   "outputs": [
    {
     "data": {
      "text/plain": [
       "False"
      ]
     },
     "execution_count": 25,
     "metadata": {},
     "output_type": "execute_result"
    }
   ],
   "source": [
    "# function to validate email address\n",
    "import re \n",
    "def emailvalidator(name):\n",
    "    pattern='^[0-9 a-z][0-9 a-z _.]{4-13}[0-9a-z][@][a-z0-9]{3,18}[.][a-z]{2,4}$'\n",
    "    if re.match(pattern,name):\n",
    "        return True\n",
    "    return False\n",
    "emailvalidator(\"kp@gmail.com\")"
   ]
  },
  {
   "cell_type": "code",
   "execution_count": 29,
   "metadata": {},
   "outputs": [
    {
     "name": "stdout",
     "output_type": "stream",
     "text": [
      "name3 added successfully\n"
     ]
    }
   ],
   "source": [
    "# function to add contact\n",
    "contacts = {\"name1\":[9876543210, 'name1@domain.ext'], \"name2\":[7654321098, \"name2@domain.ext\"]}\n",
    "\n",
    "def addContact(name, phone, email):\n",
    "    #verify that the contact doesnot already exist\n",
    "    if name in contacts:\n",
    "        print(name, \"already exists.\")\n",
    "    else:\n",
    "        if not phonenumbervalidator(phone) or emailvalidator(email):\n",
    "            print(\"Invalid Phone number or email id\")\n",
    "        else:\n",
    "            newcontact = []\n",
    "            newcontact.append(phone)\n",
    "            newcontact.append(email)\n",
    "            contacts[name] = newcontact\n",
    "            print(name, \"added successfully\")\n",
    "\n",
    "\n",
    "addContact(\"name3\", \"9876543211\", \"name321@gmail.com\")\n",
    "\n",
    "    "
   ]
  },
  {
   "cell_type": "code",
   "execution_count": 40,
   "metadata": {},
   "outputs": [
    {
     "name": "stdout",
     "output_type": "stream",
     "text": [
      "name4 already exists.\n"
     ]
    }
   ],
   "source": [
    "# function to add contact to contacts text file \n",
    "from Packages.validators import phoneNumberValidator as pnv, emailValidator as ev\n",
    "def addcontact(name,phone,email):\n",
    "    # store data as  name,phone,email in the contacts file \n",
    "    filename='DataFiles/contacts.txt'\n",
    "     \n",
    "    if not checkcontactexists(name):\n",
    "            if pnv(phone) and ev(email):\n",
    "                with open (filename,'a') as f:\n",
    "                    line= name +',' +str(phone) + ','+email + '\\n'\n",
    "                    f.write(line)\n",
    "                print(name,'added to contacts')\n",
    "            else:\n",
    "                print('invalid phone number or email')\n",
    "    else:\n",
    "            print(name, 'already exist')\n",
    "            return \n",
    "\n",
    "import re\n",
    "# function to check if the contact already exist\n",
    "def checkcontactexists(name):\n",
    "    filename='DataFiles/contacts.txt'\n",
    "    with open(filename,'r') as f:\n",
    "        filedata=f.read()\n",
    "        pattern= name+''\n",
    "        return re.search(name,filedata)\n",
    "\n",
    "addContact('name4', \"8765432109\", 'name2_34@gmail.com')\n",
    "    "
   ]
  },
  {
   "cell_type": "code",
   "execution_count": null,
   "metadata": {},
   "outputs": [],
   "source": [
    "# modify the contacts\n",
    "when we get the enitre data as single string \n",
    "either in dict or list \n",
    "based on key we can update \n"
   ]
  },
  {
   "cell_type": "code",
   "execution_count": 44,
   "metadata": {},
   "outputs": [
    {
     "ename": "NameError",
     "evalue": "name 'name' is not defined",
     "output_type": "error",
     "traceback": [
      "\u001b[1;31m---------------------------------------------------------------------------\u001b[0m",
      "\u001b[1;31mNameError\u001b[0m                                 Traceback (most recent call last)",
      "\u001b[1;32m<ipython-input-44-40aa3688ebff>\u001b[0m in \u001b[0;36m<module>\u001b[1;34m\u001b[0m\n\u001b[0;32m      7\u001b[0m             \u001b[0mprint\u001b[0m\u001b[1;33m(\u001b[0m\u001b[1;34m\",\"\u001b[0m\u001b[1;33m.\u001b[0m\u001b[0mjoin\u001b[0m\u001b[1;33m(\u001b[0m\u001b[0mline\u001b[0m\u001b[1;33m)\u001b[0m\u001b[1;33m)\u001b[0m\u001b[1;33m\u001b[0m\u001b[1;33m\u001b[0m\u001b[0m\n\u001b[0;32m      8\u001b[0m         \u001b[1;32mreturn\u001b[0m\u001b[1;33m\u001b[0m\u001b[1;33m\u001b[0m\u001b[0m\n\u001b[1;32m----> 9\u001b[1;33m \u001b[0msearchforcontact\u001b[0m\u001b[1;33m(\u001b[0m\u001b[0mname\u001b[0m\u001b[1;33m)\u001b[0m\u001b[1;33m\u001b[0m\u001b[1;33m\u001b[0m\u001b[0m\n\u001b[0m",
      "\u001b[1;31mNameError\u001b[0m: name 'name' is not defined"
     ]
    }
   ],
   "source": [
    "def searchforcontact(name):\n",
    "    a1=csvTolist(filename)\n",
    "    for line in a1:\n",
    "        flag=0\n",
    "        if name in line[0]:\n",
    "            flag=1\n",
    "            print(\",\".join(line))\n",
    "        return\n",
    "searchforcontact(name)"
   ]
  },
  {
   "cell_type": "code",
   "execution_count": 5,
   "metadata": {},
   "outputs": [
    {
     "data": {
      "text/plain": [
       "[['name1', '9876543210', 'name1_23@gmail.com\\n'],\n",
       " ['name2', '8765432109', 'name2_34@gmail.com\\n']]"
      ]
     },
     "execution_count": 5,
     "metadata": {},
     "output_type": "execute_result"
    }
   ],
   "source": [
    "filename=\"DataFiles/contacts.txt\"\n",
    "def csvToList(filename):\n",
    "    li=[]\n",
    "    with open (filename,'r') as f:\n",
    "        for line in f:\n",
    "            li.append(line.split(','))\n",
    "    return li\n",
    "def listToFile(li):  # it is converting into list and \n",
    "    s=''\n",
    "    for i in li:\n",
    "        s+=s.join(i) #s+=','.join(i)\n",
    "    return s\n",
    "li=csvToList(filename)\n",
    "listToFile(li)\n",
    "csvToList(filename)\n"
   ]
  },
  {
   "cell_type": "code",
   "execution_count": null,
   "metadata": {},
   "outputs": [],
   "source": []
  },
  {
   "cell_type": "code",
   "execution_count": 36,
   "metadata": {},
   "outputs": [
    {
     "name": "stdout",
     "output_type": "stream",
     "text": [
      "name1\n",
      "Phone : 9876543210\n",
      "Email : name1@domain.ext\n"
     ]
    }
   ],
   "source": [
    "# function to search a contact\n",
    "def searchContacts(name):\n",
    "    if name in contacts:\n",
    "        print(name)\n",
    "        print(\"Phone :\", contacts[name][0])\n",
    "        print(\"Email :\", contacts[name][1])\n",
    "    else:\n",
    "        print(\"%s does not exist\" % name)\n",
    "    return\n",
    "\n",
    "searchContacts(\"name1\")\n",
    "        "
   ]
  },
  {
   "cell_type": "code",
   "execution_count": null,
   "metadata": {},
   "outputs": [],
   "source": []
  }
 ],
 "metadata": {
  "kernelspec": {
   "display_name": "Python 3",
   "language": "python",
   "name": "python3"
  },
  "language_info": {
   "codemirror_mode": {
    "name": "ipython",
    "version": 3
   },
   "file_extension": ".py",
   "mimetype": "text/x-python",
   "name": "python",
   "nbconvert_exporter": "python",
   "pygments_lexer": "ipython3",
   "version": "3.7.3"
  }
 },
 "nbformat": 4,
 "nbformat_minor": 2
}
