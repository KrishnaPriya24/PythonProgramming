{
 "cells": [
  {
   "cell_type": "code",
   "execution_count": 85,
   "metadata": {},
   "outputs": [
    {
     "name": "stdout",
     "output_type": "stream",
     "text": [
      "1 10 1\n",
      "10\n"
     ]
    }
   ],
   "source": [
    "def countDivisors(i,j,k):\n",
    "    count=0\n",
    "    for n in range (i,j+1):\n",
    "        if(n%k ==0):\n",
    "            count=count+1\n",
    "    print (count)\n",
    "s=input()\n",
    "s=s.split()\n",
    "i=int(s[0])\n",
    "j=int(s[1])\n",
    "k=int(s[2])\n",
    "countDivisors(i,j,k)"
   ]
  },
  {
   "cell_type": "code",
   "execution_count": 43,
   "metadata": {},
   "outputs": [
    {
     "name": "stdout",
     "output_type": "stream",
     "text": [
      "2\n"
     ]
    }
   ],
   "source": [
    "def fact (n):\n",
    "    fact=1\n",
    "    for i in range(1,n+1):\n",
    "        fact=fact*i\n",
    "    print (fact)\n",
    "        \n",
    "n=int(input())\n",
    "fact(n)\n",
    "        \n"
   ]
  },
  {
   "cell_type": "code",
   "execution_count": null,
   "metadata": {},
   "outputs": [],
   "source": [
    "def string(s):\n",
    "    k=\" \"\n",
    "    for i in s:\n",
    "        if i.isupper():\n",
    "            k=k+i.lower()\n",
    "        else:\n",
    "            k=k+i.upper()\n",
    "    print(k)\n",
    "s=input()\n",
    "string(s)\n"
   ]
  },
  {
   "cell_type": "code",
   "execution_count": null,
   "metadata": {},
   "outputs": [],
   "source": [
    "def palindrome(s):\n",
    "    if (s==s[::-1]):\n",
    "        print (\"YES\")\n",
    "    else:\n",
    "        print(\"NO\")\n",
    "n=(input())\n",
    "palindrome(n)"
   ]
  },
  {
   "cell_type": "code",
   "execution_count": null,
   "metadata": {},
   "outputs": [],
   "source": [
    "n =  int(input())\n",
    "def isprime (n):\n",
    "    count=0\n",
    "    for i in range (1,n+1):\n",
    "        if(n%i==0):\n",
    "            count=count+1\n",
    "    if count==2:\n",
    "            return True\n",
    "def generalprime(n):\n",
    "    for i in range(1,n+1):\n",
    "        if(isprime(i)):\n",
    "            print(i, end=\" \")\n",
    "\n",
    "generalprime(n)\n",
    "\n"
   ]
  },
  {
   "cell_type": "code",
   "execution_count": 84,
   "metadata": {},
   "outputs": [
    {
     "name": "stdout",
     "output_type": "stream",
     "text": [
      "1\n",
      "sumit mitsu\n",
      "sumit mitsu\n",
      "YES\n"
     ]
    }
   ],
   "source": [
    "def string(s1,s2):\n",
    "    str2=[]\n",
    "    for x in s1:\n",
    "        str1.append(x)\n",
    "        \n",
    "    for x in s2:\n",
    "        str2.append(x)\n",
    "        \n",
    "    str1.sort()\n",
    "    str2.sort()\n",
    "    if(str1==str2):\n",
    "        print(\"YES\")\n",
    "    else:\n",
    "        print(\"NO\")\n",
    "\n",
    "n=int(input())\n",
    "\n",
    "for x in range(0,n):\n",
    "    str=input()\n",
    "    str=str.split(\" \")\n",
    "    s1=str[0]\n",
    "    s2=str[1]\n",
    "    print(s1,s2)\n",
    "    string(s1,s2)"
   ]
  },
  {
   "cell_type": "code",
   "execution_count": null,
   "metadata": {},
   "outputs": [],
   "source": [
    "def string(s):\n",
    "    sum=0\n",
    "    for i in s:\n",
    "        sum=sum+(ord(i)-96)\n",
    "        print(sum)\n",
    "s=input()\n",
    "string(s)"
   ]
  },
  {
   "cell_type": "code",
   "execution_count": null,
   "metadata": {},
   "outputs": [],
   "source": []
  }
 ],
 "metadata": {
  "kernelspec": {
   "display_name": "Python 3",
   "language": "python",
   "name": "python3"
  },
  "language_info": {
   "codemirror_mode": {
    "name": "ipython",
    "version": 3
   },
   "file_extension": ".py",
   "mimetype": "text/x-python",
   "name": "python",
   "nbconvert_exporter": "python",
   "pygments_lexer": "ipython3",
   "version": "3.7.3"
  }
 },
 "nbformat": 4,
 "nbformat_minor": 2
}
