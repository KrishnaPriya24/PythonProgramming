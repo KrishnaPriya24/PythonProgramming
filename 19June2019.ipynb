{
 "cells": [
  {
   "cell_type": "code",
   "execution_count": 1,
   "metadata": {},
   "outputs": [
    {
     "name": "stdout",
     "output_type": "stream",
     "text": [
      "13x357-22\n",
      "invalid\n"
     ]
    }
   ],
   "source": [
    "s=input()\n",
    "a=list(s)\n",
    "l=len(s)\n",
    "for i in range(l):\n",
    "    if((int(a[0]+a[1])%2==0) and (int(a[3]+a[4])%2==0) and (int(a[4]+a[5])%2==0) and (int(a[7]+a[8])%2==0)):\n",
    "        if(a[2]=='A' or a[2]=='E'or a[2]=='I' or a[2]=='O' or a[2]=='U' or a[2]=='Y'):\n",
    "            print(\"invalid\")\n",
    "        else:\n",
    "            print(\"valid\")\n",
    "    else:\n",
    "            print(\"invalid\");\n",
    "            break;"
   ]
  },
  {
   "cell_type": "code",
   "execution_count": null,
   "metadata": {},
   "outputs": [],
   "source": []
  },
  {
   "cell_type": "code",
   "execution_count": 2,
   "metadata": {},
   "outputs": [
    {
     "name": "stdout",
     "output_type": "stream",
     "text": [
      "5\n",
      "1 2\n",
      "2\n"
     ]
    }
   ],
   "source": [
    "n=int(input())\n",
    "a=input()\n",
    "a=a.split()\n",
    "for i in range(0,len(a)):\n",
    "    a[i]=int(a[i])\n",
    "def problem(a):\n",
    "    ans=1\n",
    "    for i in range(0,len(a),1):\n",
    "        ans=(ans*a[i])%((10**9)+7)\n",
    "    print(ans)\n",
    "problem(a)"
   ]
  },
  {
   "cell_type": "code",
   "execution_count": null,
   "metadata": {},
   "outputs": [],
   "source": []
  },
  {
   "cell_type": "code",
   "execution_count": 8,
   "metadata": {},
   "outputs": [
    {
     "name": "stdout",
     "output_type": "stream",
     "text": [
      "3694\n",
      "Motu\n"
     ]
    }
   ],
   "source": [
    "n=int(input())\n",
    "def brickgame(n):\n",
    "    sum=0\n",
    "    sum1=0\n",
    "    for i in range(1,n):\n",
    "        sum=sum+i\n",
    "        if (sum+sum1>=n):\n",
    "            print(\"Patlu\")\n",
    "            break\n",
    "        sum1=sum1+(i*2)\n",
    "        if (sum+sum1>=n):\n",
    "            print(\"Motu\")\n",
    "            break\n",
    "    return\n",
    "brickgame(n)\n"
   ]
  },
  {
   "cell_type": "markdown",
   "metadata": {},
   "source": [
    "## Goki and his friends"
   ]
  },
  {
   "cell_type": "code",
   "execution_count": 1,
   "metadata": {},
   "outputs": [
    {
     "name": "stdout",
     "output_type": "stream",
     "text": [
      "1\n",
      "100\n",
      "111\n",
      "YES\n"
     ]
    }
   ],
   "source": [
    "n=int(input())\n",
    "x=int(input())\n",
    "\n",
    "for m in range(0,n):\n",
    "    num=int(input())\n",
    "    if num>=x:\n",
    "            print(\"YES\")\n",
    "    else:\n",
    "            print(\"NO\")"
   ]
  },
  {
   "cell_type": "markdown",
   "metadata": {},
   "source": []
  },
  {
   "cell_type": "code",
   "execution_count": null,
   "metadata": {},
   "outputs": [],
   "source": [
    "def number (n):\n",
    "    if(n!=42):\n",
    "        print(n)\n",
    "n=input()\n",
    "number(n)\n",
    "    "
   ]
  },
  {
   "cell_type": "code",
   "execution_count": null,
   "metadata": {},
   "outputs": [],
   "source": []
  },
  {
   "cell_type": "code",
   "execution_count": null,
   "metadata": {},
   "outputs": [],
   "source": []
  }
 ],
 "metadata": {
  "kernelspec": {
   "display_name": "Python 3",
   "language": "python",
   "name": "python3"
  },
  "language_info": {
   "codemirror_mode": {
    "name": "ipython",
    "version": 3
   },
   "file_extension": ".py",
   "mimetype": "text/x-python",
   "name": "python",
   "nbconvert_exporter": "python",
   "pygments_lexer": "ipython3",
   "version": "3.7.3"
  }
 },
 "nbformat": 4,
 "nbformat_minor": 2
}
